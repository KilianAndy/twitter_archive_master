{
 "cells": [
  {
   "cell_type": "markdown",
   "metadata": {
    "extensions": {
     "jupyter_dashboards": {
      "version": 1,
      "views": {
       "grid_default": {
        "col": 0,
        "height": 4,
        "hidden": false,
        "row": 0,
        "width": 4
       },
       "report_default": {
        "hidden": false
       }
      }
     }
    }
   },
   "source": [
    "# Project: Wrangling and Analyze Data\n",
    "\n",
    "## Table of Contents:\n",
    "* [Data Gathering](#first-tile)\n",
    "    * [WeRateDogs Twitter archive](#first1)\n",
    "    * [Download the tweet image prediction](#second1)\n",
    "    * [Query additional data via the Twitter API](#third1)\n",
    "    \n",
    "* [Assessing Data](#second-title)\n",
    "    * [Quality issues](#first2)\n",
    "    * [Tidiness issues](#second2)\n",
    "    \n",
    "* [Cleaning Data](#third-title)\n",
    "    * [Quality issues](#first3)\n",
    "        * [Issue 1](#issue1)\n",
    "        * [Issue 2](#issue2)\n",
    "        * [Issue 3](#issue3)\n",
    "        * [Issue 4](#issue4)\n",
    "        * [Issue 5](#issue5)\n",
    "        * [Issue 6](#issue6)\n",
    "        * [Issue 7](#issue7)\n",
    "        * [Issue 8](#issue8)\n",
    "    * [Tidiness issues](#second3)\n",
    "        * [Issue 1](#issue11)\n",
    "        * [Issue 2](#issue12)\n",
    "        \n",
    "* [Storing Data](#fourth-title)\n",
    "\n",
    "* [Analyzing Data](#fifth-title)\n",
    "\n",
    "* [Insights](#sixth-title)\n",
    "\n",
    "* [Visualizations](#seventh-title)"
   ]
  },
  {
   "cell_type": "markdown",
   "metadata": {},
   "source": [
    "## Data Gathering <a class=\"anchor\" id=\"first-title\"></a>\n",
    "\n",
    "1.1 Directly download the WeRateDogs Twitter archive data (twitter_archive_enhanced.csv) <a class=\"anchor\" id=\"first1\"></a>"
   ]
  },
  {
   "cell_type": "code",
   "execution_count": 148,
   "metadata": {
    "extensions": {
     "jupyter_dashboards": {
      "version": 1,
      "views": {
       "grid_default": {
        "hidden": true
       },
       "report_default": {
        "hidden": true
       }
      }
     }
    }
   },
   "outputs": [
    {
     "data": {
      "text/html": [
       "<div>\n",
       "<style scoped>\n",
       "    .dataframe tbody tr th:only-of-type {\n",
       "        vertical-align: middle;\n",
       "    }\n",
       "\n",
       "    .dataframe tbody tr th {\n",
       "        vertical-align: top;\n",
       "    }\n",
       "\n",
       "    .dataframe thead th {\n",
       "        text-align: right;\n",
       "    }\n",
       "</style>\n",
       "<table border=\"1\" class=\"dataframe\">\n",
       "  <thead>\n",
       "    <tr style=\"text-align: right;\">\n",
       "      <th></th>\n",
       "      <th>tweet_id</th>\n",
       "      <th>in_reply_to_status_id</th>\n",
       "      <th>in_reply_to_user_id</th>\n",
       "      <th>timestamp</th>\n",
       "      <th>source</th>\n",
       "      <th>text</th>\n",
       "      <th>retweeted_status_id</th>\n",
       "      <th>retweeted_status_user_id</th>\n",
       "      <th>retweeted_status_timestamp</th>\n",
       "      <th>expanded_urls</th>\n",
       "      <th>rating_numerator</th>\n",
       "      <th>rating_denominator</th>\n",
       "      <th>name</th>\n",
       "      <th>doggo</th>\n",
       "      <th>floofer</th>\n",
       "      <th>pupper</th>\n",
       "      <th>puppo</th>\n",
       "    </tr>\n",
       "  </thead>\n",
       "  <tbody>\n",
       "    <tr>\n",
       "      <th>0</th>\n",
       "      <td>892420643555336193</td>\n",
       "      <td>NaN</td>\n",
       "      <td>NaN</td>\n",
       "      <td>2017-08-01 16:23:56 +0000</td>\n",
       "      <td>&lt;a href=\"http://twitter.com/download/iphone\" r...</td>\n",
       "      <td>This is Phineas. He's a mystical boy. Only eve...</td>\n",
       "      <td>NaN</td>\n",
       "      <td>NaN</td>\n",
       "      <td>NaN</td>\n",
       "      <td>https://twitter.com/dog_rates/status/892420643...</td>\n",
       "      <td>13</td>\n",
       "      <td>10</td>\n",
       "      <td>Phineas</td>\n",
       "      <td>None</td>\n",
       "      <td>None</td>\n",
       "      <td>None</td>\n",
       "      <td>None</td>\n",
       "    </tr>\n",
       "    <tr>\n",
       "      <th>1</th>\n",
       "      <td>892177421306343426</td>\n",
       "      <td>NaN</td>\n",
       "      <td>NaN</td>\n",
       "      <td>2017-08-01 00:17:27 +0000</td>\n",
       "      <td>&lt;a href=\"http://twitter.com/download/iphone\" r...</td>\n",
       "      <td>This is Tilly. She's just checking pup on you....</td>\n",
       "      <td>NaN</td>\n",
       "      <td>NaN</td>\n",
       "      <td>NaN</td>\n",
       "      <td>https://twitter.com/dog_rates/status/892177421...</td>\n",
       "      <td>13</td>\n",
       "      <td>10</td>\n",
       "      <td>Tilly</td>\n",
       "      <td>None</td>\n",
       "      <td>None</td>\n",
       "      <td>None</td>\n",
       "      <td>None</td>\n",
       "    </tr>\n",
       "    <tr>\n",
       "      <th>2</th>\n",
       "      <td>891815181378084864</td>\n",
       "      <td>NaN</td>\n",
       "      <td>NaN</td>\n",
       "      <td>2017-07-31 00:18:03 +0000</td>\n",
       "      <td>&lt;a href=\"http://twitter.com/download/iphone\" r...</td>\n",
       "      <td>This is Archie. He is a rare Norwegian Pouncin...</td>\n",
       "      <td>NaN</td>\n",
       "      <td>NaN</td>\n",
       "      <td>NaN</td>\n",
       "      <td>https://twitter.com/dog_rates/status/891815181...</td>\n",
       "      <td>12</td>\n",
       "      <td>10</td>\n",
       "      <td>Archie</td>\n",
       "      <td>None</td>\n",
       "      <td>None</td>\n",
       "      <td>None</td>\n",
       "      <td>None</td>\n",
       "    </tr>\n",
       "    <tr>\n",
       "      <th>3</th>\n",
       "      <td>891689557279858688</td>\n",
       "      <td>NaN</td>\n",
       "      <td>NaN</td>\n",
       "      <td>2017-07-30 15:58:51 +0000</td>\n",
       "      <td>&lt;a href=\"http://twitter.com/download/iphone\" r...</td>\n",
       "      <td>This is Darla. She commenced a snooze mid meal...</td>\n",
       "      <td>NaN</td>\n",
       "      <td>NaN</td>\n",
       "      <td>NaN</td>\n",
       "      <td>https://twitter.com/dog_rates/status/891689557...</td>\n",
       "      <td>13</td>\n",
       "      <td>10</td>\n",
       "      <td>Darla</td>\n",
       "      <td>None</td>\n",
       "      <td>None</td>\n",
       "      <td>None</td>\n",
       "      <td>None</td>\n",
       "    </tr>\n",
       "    <tr>\n",
       "      <th>4</th>\n",
       "      <td>891327558926688256</td>\n",
       "      <td>NaN</td>\n",
       "      <td>NaN</td>\n",
       "      <td>2017-07-29 16:00:24 +0000</td>\n",
       "      <td>&lt;a href=\"http://twitter.com/download/iphone\" r...</td>\n",
       "      <td>This is Franklin. He would like you to stop ca...</td>\n",
       "      <td>NaN</td>\n",
       "      <td>NaN</td>\n",
       "      <td>NaN</td>\n",
       "      <td>https://twitter.com/dog_rates/status/891327558...</td>\n",
       "      <td>12</td>\n",
       "      <td>10</td>\n",
       "      <td>Franklin</td>\n",
       "      <td>None</td>\n",
       "      <td>None</td>\n",
       "      <td>None</td>\n",
       "      <td>None</td>\n",
       "    </tr>\n",
       "  </tbody>\n",
       "</table>\n",
       "</div>"
      ],
      "text/plain": [
       "             tweet_id  in_reply_to_status_id  in_reply_to_user_id  \\\n",
       "0  892420643555336193                    NaN                  NaN   \n",
       "1  892177421306343426                    NaN                  NaN   \n",
       "2  891815181378084864                    NaN                  NaN   \n",
       "3  891689557279858688                    NaN                  NaN   \n",
       "4  891327558926688256                    NaN                  NaN   \n",
       "\n",
       "                   timestamp  \\\n",
       "0  2017-08-01 16:23:56 +0000   \n",
       "1  2017-08-01 00:17:27 +0000   \n",
       "2  2017-07-31 00:18:03 +0000   \n",
       "3  2017-07-30 15:58:51 +0000   \n",
       "4  2017-07-29 16:00:24 +0000   \n",
       "\n",
       "                                              source  \\\n",
       "0  <a href=\"http://twitter.com/download/iphone\" r...   \n",
       "1  <a href=\"http://twitter.com/download/iphone\" r...   \n",
       "2  <a href=\"http://twitter.com/download/iphone\" r...   \n",
       "3  <a href=\"http://twitter.com/download/iphone\" r...   \n",
       "4  <a href=\"http://twitter.com/download/iphone\" r...   \n",
       "\n",
       "                                                text  retweeted_status_id  \\\n",
       "0  This is Phineas. He's a mystical boy. Only eve...                  NaN   \n",
       "1  This is Tilly. She's just checking pup on you....                  NaN   \n",
       "2  This is Archie. He is a rare Norwegian Pouncin...                  NaN   \n",
       "3  This is Darla. She commenced a snooze mid meal...                  NaN   \n",
       "4  This is Franklin. He would like you to stop ca...                  NaN   \n",
       "\n",
       "   retweeted_status_user_id retweeted_status_timestamp  \\\n",
       "0                       NaN                        NaN   \n",
       "1                       NaN                        NaN   \n",
       "2                       NaN                        NaN   \n",
       "3                       NaN                        NaN   \n",
       "4                       NaN                        NaN   \n",
       "\n",
       "                                       expanded_urls  rating_numerator  \\\n",
       "0  https://twitter.com/dog_rates/status/892420643...                13   \n",
       "1  https://twitter.com/dog_rates/status/892177421...                13   \n",
       "2  https://twitter.com/dog_rates/status/891815181...                12   \n",
       "3  https://twitter.com/dog_rates/status/891689557...                13   \n",
       "4  https://twitter.com/dog_rates/status/891327558...                12   \n",
       "\n",
       "   rating_denominator      name doggo floofer pupper puppo  \n",
       "0                  10   Phineas  None    None   None  None  \n",
       "1                  10     Tilly  None    None   None  None  \n",
       "2                  10    Archie  None    None   None  None  \n",
       "3                  10     Darla  None    None   None  None  \n",
       "4                  10  Franklin  None    None   None  None  "
      ]
     },
     "execution_count": 148,
     "metadata": {},
     "output_type": "execute_result"
    }
   ],
   "source": [
    "import pandas as pd\n",
    "import numpy as np\n",
    "import requests\n",
    "import tweepy\n",
    "import json\n",
    "import os\n",
    "from PIL import Image\n",
    "from io import BytesIO\n",
    "\n",
    "twitter_archive_enhanced = pd.read_csv('twitter-archive-enhanced.csv')\n",
    "twitter_archive_enhanced.head()"
   ]
  },
  {
   "cell_type": "code",
   "execution_count": 2,
   "metadata": {},
   "outputs": [
    {
     "name": "stdout",
     "output_type": "stream",
     "text": [
      "<class 'pandas.core.frame.DataFrame'>\n",
      "RangeIndex: 2356 entries, 0 to 2355\n",
      "Data columns (total 17 columns):\n",
      " #   Column                      Non-Null Count  Dtype  \n",
      "---  ------                      --------------  -----  \n",
      " 0   tweet_id                    2356 non-null   int64  \n",
      " 1   in_reply_to_status_id       78 non-null     float64\n",
      " 2   in_reply_to_user_id         78 non-null     float64\n",
      " 3   timestamp                   2356 non-null   object \n",
      " 4   source                      2356 non-null   object \n",
      " 5   text                        2356 non-null   object \n",
      " 6   retweeted_status_id         181 non-null    float64\n",
      " 7   retweeted_status_user_id    181 non-null    float64\n",
      " 8   retweeted_status_timestamp  181 non-null    object \n",
      " 9   expanded_urls               2297 non-null   object \n",
      " 10  rating_numerator            2356 non-null   int64  \n",
      " 11  rating_denominator          2356 non-null   int64  \n",
      " 12  name                        2356 non-null   object \n",
      " 13  doggo                       2356 non-null   object \n",
      " 14  floofer                     2356 non-null   object \n",
      " 15  pupper                      2356 non-null   object \n",
      " 16  puppo                       2356 non-null   object \n",
      "dtypes: float64(4), int64(3), object(10)\n",
      "memory usage: 313.0+ KB\n"
     ]
    }
   ],
   "source": [
    "twitter_archive_enhanced.info()"
   ]
  },
  {
   "cell_type": "code",
   "execution_count": 3,
   "metadata": {},
   "outputs": [
    {
     "data": {
      "text/plain": [
       "RT @dog_rates: We only rate dogs. This is quite clearly a smol broken polar bear. We'd appreciate if you only send dogs. Thank you... 12/10…                          1\n",
       "We only rate dogs. This is quite clearly a smol broken polar bear. We'd appreciate if you only send dogs. Thank you... 12/10 https://t.co/g2nSyGenG9                  1\n",
       "Guys, we only rate dogs. This is quite clearly a bulbasaur. Please only send dogs. Thank you... 12/10 human used pet, it's super effective https://t.co/Xc7uj1C64x    1\n",
       "This is quite the dog. Gets really excited when not in water. Not very soft tho. Bad at fetch. Can't do tricks. 2/10 https://t.co/aMCTNWO94t                          1\n",
       "Name: text, dtype: int64"
      ]
     },
     "execution_count": 3,
     "metadata": {},
     "output_type": "execute_result"
    }
   ],
   "source": [
    "twitter_archive_enhanced[twitter_archive_enhanced.name == 'quite'].text.value_counts()"
   ]
  },
  {
   "cell_type": "code",
   "execution_count": 4,
   "metadata": {},
   "outputs": [
    {
     "data": {
      "text/html": [
       "<div>\n",
       "<style scoped>\n",
       "    .dataframe tbody tr th:only-of-type {\n",
       "        vertical-align: middle;\n",
       "    }\n",
       "\n",
       "    .dataframe tbody tr th {\n",
       "        vertical-align: top;\n",
       "    }\n",
       "\n",
       "    .dataframe thead th {\n",
       "        text-align: right;\n",
       "    }\n",
       "</style>\n",
       "<table border=\"1\" class=\"dataframe\">\n",
       "  <thead>\n",
       "    <tr style=\"text-align: right;\">\n",
       "      <th></th>\n",
       "      <th>tweet_id</th>\n",
       "      <th>in_reply_to_status_id</th>\n",
       "      <th>in_reply_to_user_id</th>\n",
       "      <th>timestamp</th>\n",
       "      <th>source</th>\n",
       "      <th>text</th>\n",
       "      <th>retweeted_status_id</th>\n",
       "      <th>retweeted_status_user_id</th>\n",
       "      <th>retweeted_status_timestamp</th>\n",
       "      <th>expanded_urls</th>\n",
       "      <th>rating_numerator</th>\n",
       "      <th>rating_denominator</th>\n",
       "      <th>name</th>\n",
       "      <th>doggo</th>\n",
       "      <th>floofer</th>\n",
       "      <th>pupper</th>\n",
       "      <th>puppo</th>\n",
       "    </tr>\n",
       "  </thead>\n",
       "  <tbody>\n",
       "    <tr>\n",
       "      <th>19</th>\n",
       "      <td>888202515573088257</td>\n",
       "      <td>NaN</td>\n",
       "      <td>NaN</td>\n",
       "      <td>2017-07-21 01:02:36 +0000</td>\n",
       "      <td>&lt;a href=\"http://twitter.com/download/iphone\" r...</td>\n",
       "      <td>RT @dog_rates: This is Canela. She attempted s...</td>\n",
       "      <td>8.874740e+17</td>\n",
       "      <td>4.196984e+09</td>\n",
       "      <td>2017-07-19 00:47:34 +0000</td>\n",
       "      <td>https://twitter.com/dog_rates/status/887473957...</td>\n",
       "      <td>13</td>\n",
       "      <td>10</td>\n",
       "      <td>Canela</td>\n",
       "      <td>None</td>\n",
       "      <td>None</td>\n",
       "      <td>None</td>\n",
       "      <td>None</td>\n",
       "    </tr>\n",
       "    <tr>\n",
       "      <th>32</th>\n",
       "      <td>886054160059072513</td>\n",
       "      <td>NaN</td>\n",
       "      <td>NaN</td>\n",
       "      <td>2017-07-15 02:45:48 +0000</td>\n",
       "      <td>&lt;a href=\"http://twitter.com/download/iphone\" r...</td>\n",
       "      <td>RT @Athletics: 12/10 #BATP https://t.co/WxwJmv...</td>\n",
       "      <td>8.860537e+17</td>\n",
       "      <td>1.960740e+07</td>\n",
       "      <td>2017-07-15 02:44:07 +0000</td>\n",
       "      <td>https://twitter.com/dog_rates/status/886053434...</td>\n",
       "      <td>12</td>\n",
       "      <td>10</td>\n",
       "      <td>None</td>\n",
       "      <td>None</td>\n",
       "      <td>None</td>\n",
       "      <td>None</td>\n",
       "      <td>None</td>\n",
       "    </tr>\n",
       "    <tr>\n",
       "      <th>36</th>\n",
       "      <td>885311592912609280</td>\n",
       "      <td>NaN</td>\n",
       "      <td>NaN</td>\n",
       "      <td>2017-07-13 01:35:06 +0000</td>\n",
       "      <td>&lt;a href=\"http://twitter.com/download/iphone\" r...</td>\n",
       "      <td>RT @dog_rates: This is Lilly. She just paralle...</td>\n",
       "      <td>8.305833e+17</td>\n",
       "      <td>4.196984e+09</td>\n",
       "      <td>2017-02-12 01:04:29 +0000</td>\n",
       "      <td>https://twitter.com/dog_rates/status/830583320...</td>\n",
       "      <td>13</td>\n",
       "      <td>10</td>\n",
       "      <td>Lilly</td>\n",
       "      <td>None</td>\n",
       "      <td>None</td>\n",
       "      <td>None</td>\n",
       "      <td>None</td>\n",
       "    </tr>\n",
       "    <tr>\n",
       "      <th>68</th>\n",
       "      <td>879130579576475649</td>\n",
       "      <td>NaN</td>\n",
       "      <td>NaN</td>\n",
       "      <td>2017-06-26 00:13:58 +0000</td>\n",
       "      <td>&lt;a href=\"http://twitter.com/download/iphone\" r...</td>\n",
       "      <td>RT @dog_rates: This is Emmy. She was adopted t...</td>\n",
       "      <td>8.780576e+17</td>\n",
       "      <td>4.196984e+09</td>\n",
       "      <td>2017-06-23 01:10:23 +0000</td>\n",
       "      <td>https://twitter.com/dog_rates/status/878057613...</td>\n",
       "      <td>14</td>\n",
       "      <td>10</td>\n",
       "      <td>Emmy</td>\n",
       "      <td>None</td>\n",
       "      <td>None</td>\n",
       "      <td>None</td>\n",
       "      <td>None</td>\n",
       "    </tr>\n",
       "    <tr>\n",
       "      <th>73</th>\n",
       "      <td>878404777348136964</td>\n",
       "      <td>NaN</td>\n",
       "      <td>NaN</td>\n",
       "      <td>2017-06-24 00:09:53 +0000</td>\n",
       "      <td>&lt;a href=\"http://twitter.com/download/iphone\" r...</td>\n",
       "      <td>RT @dog_rates: Meet Shadow. In an attempt to r...</td>\n",
       "      <td>8.782815e+17</td>\n",
       "      <td>4.196984e+09</td>\n",
       "      <td>2017-06-23 16:00:04 +0000</td>\n",
       "      <td>https://www.gofundme.com/3yd6y1c,https://twitt...</td>\n",
       "      <td>13</td>\n",
       "      <td>10</td>\n",
       "      <td>Shadow</td>\n",
       "      <td>None</td>\n",
       "      <td>None</td>\n",
       "      <td>None</td>\n",
       "      <td>None</td>\n",
       "    </tr>\n",
       "    <tr>\n",
       "      <th>...</th>\n",
       "      <td>...</td>\n",
       "      <td>...</td>\n",
       "      <td>...</td>\n",
       "      <td>...</td>\n",
       "      <td>...</td>\n",
       "      <td>...</td>\n",
       "      <td>...</td>\n",
       "      <td>...</td>\n",
       "      <td>...</td>\n",
       "      <td>...</td>\n",
       "      <td>...</td>\n",
       "      <td>...</td>\n",
       "      <td>...</td>\n",
       "      <td>...</td>\n",
       "      <td>...</td>\n",
       "      <td>...</td>\n",
       "      <td>...</td>\n",
       "    </tr>\n",
       "    <tr>\n",
       "      <th>1023</th>\n",
       "      <td>746521445350707200</td>\n",
       "      <td>NaN</td>\n",
       "      <td>NaN</td>\n",
       "      <td>2016-06-25 01:52:36 +0000</td>\n",
       "      <td>&lt;a href=\"http://twitter.com/download/iphone\" r...</td>\n",
       "      <td>RT @dog_rates: This is Shaggy. He knows exactl...</td>\n",
       "      <td>6.678667e+17</td>\n",
       "      <td>4.196984e+09</td>\n",
       "      <td>2015-11-21 00:46:50 +0000</td>\n",
       "      <td>https://twitter.com/dog_rates/status/667866724...</td>\n",
       "      <td>10</td>\n",
       "      <td>10</td>\n",
       "      <td>Shaggy</td>\n",
       "      <td>None</td>\n",
       "      <td>None</td>\n",
       "      <td>None</td>\n",
       "      <td>None</td>\n",
       "    </tr>\n",
       "    <tr>\n",
       "      <th>1043</th>\n",
       "      <td>743835915802583040</td>\n",
       "      <td>NaN</td>\n",
       "      <td>NaN</td>\n",
       "      <td>2016-06-17 16:01:16 +0000</td>\n",
       "      <td>&lt;a href=\"http://twitter.com/download/iphone\" r...</td>\n",
       "      <td>RT @dog_rates: Extremely intelligent dog here....</td>\n",
       "      <td>6.671383e+17</td>\n",
       "      <td>4.196984e+09</td>\n",
       "      <td>2015-11-19 00:32:12 +0000</td>\n",
       "      <td>https://twitter.com/dog_rates/status/667138269...</td>\n",
       "      <td>10</td>\n",
       "      <td>10</td>\n",
       "      <td>None</td>\n",
       "      <td>None</td>\n",
       "      <td>None</td>\n",
       "      <td>None</td>\n",
       "      <td>None</td>\n",
       "    </tr>\n",
       "    <tr>\n",
       "      <th>1242</th>\n",
       "      <td>711998809858043904</td>\n",
       "      <td>NaN</td>\n",
       "      <td>NaN</td>\n",
       "      <td>2016-03-21 19:31:59 +0000</td>\n",
       "      <td>&lt;a href=\"http://twitter.com/download/iphone\" r...</td>\n",
       "      <td>RT @twitter: @dog_rates Awesome Tweet! 12/10. ...</td>\n",
       "      <td>7.119983e+17</td>\n",
       "      <td>7.832140e+05</td>\n",
       "      <td>2016-03-21 19:29:52 +0000</td>\n",
       "      <td>https://twitter.com/twitter/status/71199827977...</td>\n",
       "      <td>12</td>\n",
       "      <td>10</td>\n",
       "      <td>None</td>\n",
       "      <td>None</td>\n",
       "      <td>None</td>\n",
       "      <td>None</td>\n",
       "      <td>None</td>\n",
       "    </tr>\n",
       "    <tr>\n",
       "      <th>2259</th>\n",
       "      <td>667550904950915073</td>\n",
       "      <td>NaN</td>\n",
       "      <td>NaN</td>\n",
       "      <td>2015-11-20 03:51:52 +0000</td>\n",
       "      <td>&lt;a href=\"http://twitter.com\" rel=\"nofollow\"&gt;Tw...</td>\n",
       "      <td>RT @dogratingrating: Exceptional talent. Origi...</td>\n",
       "      <td>6.675487e+17</td>\n",
       "      <td>4.296832e+09</td>\n",
       "      <td>2015-11-20 03:43:06 +0000</td>\n",
       "      <td>https://twitter.com/dogratingrating/status/667...</td>\n",
       "      <td>12</td>\n",
       "      <td>10</td>\n",
       "      <td>None</td>\n",
       "      <td>None</td>\n",
       "      <td>None</td>\n",
       "      <td>None</td>\n",
       "      <td>None</td>\n",
       "    </tr>\n",
       "    <tr>\n",
       "      <th>2260</th>\n",
       "      <td>667550882905632768</td>\n",
       "      <td>NaN</td>\n",
       "      <td>NaN</td>\n",
       "      <td>2015-11-20 03:51:47 +0000</td>\n",
       "      <td>&lt;a href=\"http://twitter.com\" rel=\"nofollow\"&gt;Tw...</td>\n",
       "      <td>RT @dogratingrating: Unoriginal idea. Blatant ...</td>\n",
       "      <td>6.675484e+17</td>\n",
       "      <td>4.296832e+09</td>\n",
       "      <td>2015-11-20 03:41:59 +0000</td>\n",
       "      <td>https://twitter.com/dogratingrating/status/667...</td>\n",
       "      <td>5</td>\n",
       "      <td>10</td>\n",
       "      <td>None</td>\n",
       "      <td>None</td>\n",
       "      <td>None</td>\n",
       "      <td>None</td>\n",
       "      <td>None</td>\n",
       "    </tr>\n",
       "  </tbody>\n",
       "</table>\n",
       "<p>181 rows × 17 columns</p>\n",
       "</div>"
      ],
      "text/plain": [
       "                tweet_id  in_reply_to_status_id  in_reply_to_user_id  \\\n",
       "19    888202515573088257                    NaN                  NaN   \n",
       "32    886054160059072513                    NaN                  NaN   \n",
       "36    885311592912609280                    NaN                  NaN   \n",
       "68    879130579576475649                    NaN                  NaN   \n",
       "73    878404777348136964                    NaN                  NaN   \n",
       "...                  ...                    ...                  ...   \n",
       "1023  746521445350707200                    NaN                  NaN   \n",
       "1043  743835915802583040                    NaN                  NaN   \n",
       "1242  711998809858043904                    NaN                  NaN   \n",
       "2259  667550904950915073                    NaN                  NaN   \n",
       "2260  667550882905632768                    NaN                  NaN   \n",
       "\n",
       "                      timestamp  \\\n",
       "19    2017-07-21 01:02:36 +0000   \n",
       "32    2017-07-15 02:45:48 +0000   \n",
       "36    2017-07-13 01:35:06 +0000   \n",
       "68    2017-06-26 00:13:58 +0000   \n",
       "73    2017-06-24 00:09:53 +0000   \n",
       "...                         ...   \n",
       "1023  2016-06-25 01:52:36 +0000   \n",
       "1043  2016-06-17 16:01:16 +0000   \n",
       "1242  2016-03-21 19:31:59 +0000   \n",
       "2259  2015-11-20 03:51:52 +0000   \n",
       "2260  2015-11-20 03:51:47 +0000   \n",
       "\n",
       "                                                 source  \\\n",
       "19    <a href=\"http://twitter.com/download/iphone\" r...   \n",
       "32    <a href=\"http://twitter.com/download/iphone\" r...   \n",
       "36    <a href=\"http://twitter.com/download/iphone\" r...   \n",
       "68    <a href=\"http://twitter.com/download/iphone\" r...   \n",
       "73    <a href=\"http://twitter.com/download/iphone\" r...   \n",
       "...                                                 ...   \n",
       "1023  <a href=\"http://twitter.com/download/iphone\" r...   \n",
       "1043  <a href=\"http://twitter.com/download/iphone\" r...   \n",
       "1242  <a href=\"http://twitter.com/download/iphone\" r...   \n",
       "2259  <a href=\"http://twitter.com\" rel=\"nofollow\">Tw...   \n",
       "2260  <a href=\"http://twitter.com\" rel=\"nofollow\">Tw...   \n",
       "\n",
       "                                                   text  retweeted_status_id  \\\n",
       "19    RT @dog_rates: This is Canela. She attempted s...         8.874740e+17   \n",
       "32    RT @Athletics: 12/10 #BATP https://t.co/WxwJmv...         8.860537e+17   \n",
       "36    RT @dog_rates: This is Lilly. She just paralle...         8.305833e+17   \n",
       "68    RT @dog_rates: This is Emmy. She was adopted t...         8.780576e+17   \n",
       "73    RT @dog_rates: Meet Shadow. In an attempt to r...         8.782815e+17   \n",
       "...                                                 ...                  ...   \n",
       "1023  RT @dog_rates: This is Shaggy. He knows exactl...         6.678667e+17   \n",
       "1043  RT @dog_rates: Extremely intelligent dog here....         6.671383e+17   \n",
       "1242  RT @twitter: @dog_rates Awesome Tweet! 12/10. ...         7.119983e+17   \n",
       "2259  RT @dogratingrating: Exceptional talent. Origi...         6.675487e+17   \n",
       "2260  RT @dogratingrating: Unoriginal idea. Blatant ...         6.675484e+17   \n",
       "\n",
       "      retweeted_status_user_id retweeted_status_timestamp  \\\n",
       "19                4.196984e+09  2017-07-19 00:47:34 +0000   \n",
       "32                1.960740e+07  2017-07-15 02:44:07 +0000   \n",
       "36                4.196984e+09  2017-02-12 01:04:29 +0000   \n",
       "68                4.196984e+09  2017-06-23 01:10:23 +0000   \n",
       "73                4.196984e+09  2017-06-23 16:00:04 +0000   \n",
       "...                        ...                        ...   \n",
       "1023              4.196984e+09  2015-11-21 00:46:50 +0000   \n",
       "1043              4.196984e+09  2015-11-19 00:32:12 +0000   \n",
       "1242              7.832140e+05  2016-03-21 19:29:52 +0000   \n",
       "2259              4.296832e+09  2015-11-20 03:43:06 +0000   \n",
       "2260              4.296832e+09  2015-11-20 03:41:59 +0000   \n",
       "\n",
       "                                          expanded_urls  rating_numerator  \\\n",
       "19    https://twitter.com/dog_rates/status/887473957...                13   \n",
       "32    https://twitter.com/dog_rates/status/886053434...                12   \n",
       "36    https://twitter.com/dog_rates/status/830583320...                13   \n",
       "68    https://twitter.com/dog_rates/status/878057613...                14   \n",
       "73    https://www.gofundme.com/3yd6y1c,https://twitt...                13   \n",
       "...                                                 ...               ...   \n",
       "1023  https://twitter.com/dog_rates/status/667866724...                10   \n",
       "1043  https://twitter.com/dog_rates/status/667138269...                10   \n",
       "1242  https://twitter.com/twitter/status/71199827977...                12   \n",
       "2259  https://twitter.com/dogratingrating/status/667...                12   \n",
       "2260  https://twitter.com/dogratingrating/status/667...                 5   \n",
       "\n",
       "      rating_denominator    name doggo floofer pupper puppo  \n",
       "19                    10  Canela  None    None   None  None  \n",
       "32                    10    None  None    None   None  None  \n",
       "36                    10   Lilly  None    None   None  None  \n",
       "68                    10    Emmy  None    None   None  None  \n",
       "73                    10  Shadow  None    None   None  None  \n",
       "...                  ...     ...   ...     ...    ...   ...  \n",
       "1023                  10  Shaggy  None    None   None  None  \n",
       "1043                  10    None  None    None   None  None  \n",
       "1242                  10    None  None    None   None  None  \n",
       "2259                  10    None  None    None   None  None  \n",
       "2260                  10    None  None    None   None  None  \n",
       "\n",
       "[181 rows x 17 columns]"
      ]
     },
     "execution_count": 4,
     "metadata": {},
     "output_type": "execute_result"
    }
   ],
   "source": [
    "twitter_archive_enhanced[twitter_archive_enhanced.text.str.contains('RT @')]"
   ]
  },
  {
   "cell_type": "code",
   "execution_count": 5,
   "metadata": {},
   "outputs": [
    {
     "data": {
      "text/plain": [
       "137"
      ]
     },
     "execution_count": 5,
     "metadata": {},
     "output_type": "execute_result"
    }
   ],
   "source": [
    "twitter_archive_enhanced.duplicated(subset= 'expanded_urls').sum()"
   ]
  },
  {
   "cell_type": "markdown",
   "metadata": {},
   "source": [
    "1.2 Use the Requests library to download the tweet image prediction (image_predictions.tsv) <a class=\"anchor\" id=\"second1\"></a>"
   ]
  },
  {
   "cell_type": "code",
   "execution_count": 6,
   "metadata": {},
   "outputs": [
    {
     "data": {
      "text/html": [
       "<div>\n",
       "<style scoped>\n",
       "    .dataframe tbody tr th:only-of-type {\n",
       "        vertical-align: middle;\n",
       "    }\n",
       "\n",
       "    .dataframe tbody tr th {\n",
       "        vertical-align: top;\n",
       "    }\n",
       "\n",
       "    .dataframe thead th {\n",
       "        text-align: right;\n",
       "    }\n",
       "</style>\n",
       "<table border=\"1\" class=\"dataframe\">\n",
       "  <thead>\n",
       "    <tr style=\"text-align: right;\">\n",
       "      <th></th>\n",
       "      <th>tweet_id</th>\n",
       "      <th>jpg_url</th>\n",
       "      <th>img_num</th>\n",
       "      <th>p1</th>\n",
       "      <th>p1_conf</th>\n",
       "      <th>p1_dog</th>\n",
       "      <th>p2</th>\n",
       "      <th>p2_conf</th>\n",
       "      <th>p2_dog</th>\n",
       "      <th>p3</th>\n",
       "      <th>p3_conf</th>\n",
       "      <th>p3_dog</th>\n",
       "    </tr>\n",
       "  </thead>\n",
       "  <tbody>\n",
       "    <tr>\n",
       "      <th>0</th>\n",
       "      <td>666020888022790149</td>\n",
       "      <td>https://pbs.twimg.com/media/CT4udn0WwAA0aMy.jpg</td>\n",
       "      <td>1</td>\n",
       "      <td>Welsh_springer_spaniel</td>\n",
       "      <td>0.465074</td>\n",
       "      <td>True</td>\n",
       "      <td>collie</td>\n",
       "      <td>0.156665</td>\n",
       "      <td>True</td>\n",
       "      <td>Shetland_sheepdog</td>\n",
       "      <td>0.061428</td>\n",
       "      <td>True</td>\n",
       "    </tr>\n",
       "    <tr>\n",
       "      <th>1</th>\n",
       "      <td>666029285002620928</td>\n",
       "      <td>https://pbs.twimg.com/media/CT42GRgUYAA5iDo.jpg</td>\n",
       "      <td>1</td>\n",
       "      <td>redbone</td>\n",
       "      <td>0.506826</td>\n",
       "      <td>True</td>\n",
       "      <td>miniature_pinscher</td>\n",
       "      <td>0.074192</td>\n",
       "      <td>True</td>\n",
       "      <td>Rhodesian_ridgeback</td>\n",
       "      <td>0.072010</td>\n",
       "      <td>True</td>\n",
       "    </tr>\n",
       "    <tr>\n",
       "      <th>2</th>\n",
       "      <td>666033412701032449</td>\n",
       "      <td>https://pbs.twimg.com/media/CT4521TWwAEvMyu.jpg</td>\n",
       "      <td>1</td>\n",
       "      <td>German_shepherd</td>\n",
       "      <td>0.596461</td>\n",
       "      <td>True</td>\n",
       "      <td>malinois</td>\n",
       "      <td>0.138584</td>\n",
       "      <td>True</td>\n",
       "      <td>bloodhound</td>\n",
       "      <td>0.116197</td>\n",
       "      <td>True</td>\n",
       "    </tr>\n",
       "    <tr>\n",
       "      <th>3</th>\n",
       "      <td>666044226329800704</td>\n",
       "      <td>https://pbs.twimg.com/media/CT5Dr8HUEAA-lEu.jpg</td>\n",
       "      <td>1</td>\n",
       "      <td>Rhodesian_ridgeback</td>\n",
       "      <td>0.408143</td>\n",
       "      <td>True</td>\n",
       "      <td>redbone</td>\n",
       "      <td>0.360687</td>\n",
       "      <td>True</td>\n",
       "      <td>miniature_pinscher</td>\n",
       "      <td>0.222752</td>\n",
       "      <td>True</td>\n",
       "    </tr>\n",
       "    <tr>\n",
       "      <th>4</th>\n",
       "      <td>666049248165822465</td>\n",
       "      <td>https://pbs.twimg.com/media/CT5IQmsXIAAKY4A.jpg</td>\n",
       "      <td>1</td>\n",
       "      <td>miniature_pinscher</td>\n",
       "      <td>0.560311</td>\n",
       "      <td>True</td>\n",
       "      <td>Rottweiler</td>\n",
       "      <td>0.243682</td>\n",
       "      <td>True</td>\n",
       "      <td>Doberman</td>\n",
       "      <td>0.154629</td>\n",
       "      <td>True</td>\n",
       "    </tr>\n",
       "  </tbody>\n",
       "</table>\n",
       "</div>"
      ],
      "text/plain": [
       "             tweet_id                                          jpg_url  \\\n",
       "0  666020888022790149  https://pbs.twimg.com/media/CT4udn0WwAA0aMy.jpg   \n",
       "1  666029285002620928  https://pbs.twimg.com/media/CT42GRgUYAA5iDo.jpg   \n",
       "2  666033412701032449  https://pbs.twimg.com/media/CT4521TWwAEvMyu.jpg   \n",
       "3  666044226329800704  https://pbs.twimg.com/media/CT5Dr8HUEAA-lEu.jpg   \n",
       "4  666049248165822465  https://pbs.twimg.com/media/CT5IQmsXIAAKY4A.jpg   \n",
       "\n",
       "   img_num                      p1   p1_conf  p1_dog                  p2  \\\n",
       "0        1  Welsh_springer_spaniel  0.465074    True              collie   \n",
       "1        1                 redbone  0.506826    True  miniature_pinscher   \n",
       "2        1         German_shepherd  0.596461    True            malinois   \n",
       "3        1     Rhodesian_ridgeback  0.408143    True             redbone   \n",
       "4        1      miniature_pinscher  0.560311    True          Rottweiler   \n",
       "\n",
       "    p2_conf  p2_dog                   p3   p3_conf  p3_dog  \n",
       "0  0.156665    True    Shetland_sheepdog  0.061428    True  \n",
       "1  0.074192    True  Rhodesian_ridgeback  0.072010    True  \n",
       "2  0.138584    True           bloodhound  0.116197    True  \n",
       "3  0.360687    True   miniature_pinscher  0.222752    True  \n",
       "4  0.243682    True             Doberman  0.154629    True  "
      ]
     },
     "execution_count": 6,
     "metadata": {},
     "output_type": "execute_result"
    }
   ],
   "source": [
    "url = 'https://d17h27t6h515a5.cloudfront.net/topher/2017/August/599fd2ad_image-predictions/image-predictions.tsv'\n",
    "\n",
    "tweet_image_prediction = requests.get(url)\n",
    "\n",
    "folder = 'image-predictions.tsv'\n",
    "\n",
    "# Opens a file and writes the contents from the requested URL.\n",
    "with open(folder, 'wb') as file:\n",
    "    file.write(tweet_image_prediction.content)\n",
    "    \n",
    "twitter_image_prediction = pd.read_csv('image-predictions.tsv', sep= '\\t')\n",
    "twitter_image_prediction.head()"
   ]
  },
  {
   "cell_type": "code",
   "execution_count": 7,
   "metadata": {},
   "outputs": [
    {
     "name": "stdout",
     "output_type": "stream",
     "text": [
      "<class 'pandas.core.frame.DataFrame'>\n",
      "RangeIndex: 2075 entries, 0 to 2074\n",
      "Data columns (total 12 columns):\n",
      " #   Column    Non-Null Count  Dtype  \n",
      "---  ------    --------------  -----  \n",
      " 0   tweet_id  2075 non-null   int64  \n",
      " 1   jpg_url   2075 non-null   object \n",
      " 2   img_num   2075 non-null   int64  \n",
      " 3   p1        2075 non-null   object \n",
      " 4   p1_conf   2075 non-null   float64\n",
      " 5   p1_dog    2075 non-null   bool   \n",
      " 6   p2        2075 non-null   object \n",
      " 7   p2_conf   2075 non-null   float64\n",
      " 8   p2_dog    2075 non-null   bool   \n",
      " 9   p3        2075 non-null   object \n",
      " 10  p3_conf   2075 non-null   float64\n",
      " 11  p3_dog    2075 non-null   bool   \n",
      "dtypes: bool(3), float64(3), int64(2), object(4)\n",
      "memory usage: 152.1+ KB\n"
     ]
    }
   ],
   "source": [
    "twitter_image_prediction.info()"
   ]
  },
  {
   "cell_type": "code",
   "execution_count": 8,
   "metadata": {},
   "outputs": [
    {
     "data": {
      "text/plain": [
       "1    1780\n",
       "2     198\n",
       "3      66\n",
       "4      31\n",
       "Name: img_num, dtype: int64"
      ]
     },
     "execution_count": 8,
     "metadata": {},
     "output_type": "execute_result"
    }
   ],
   "source": [
    "twitter_image_prediction.img_num.value_counts()"
   ]
  },
  {
   "cell_type": "code",
   "execution_count": 9,
   "metadata": {},
   "outputs": [
    {
     "data": {
      "text/plain": [
       "0"
      ]
     },
     "execution_count": 9,
     "metadata": {},
     "output_type": "execute_result"
    }
   ],
   "source": [
    "twitter_image_prediction.duplicated().sum()"
   ]
  },
  {
   "cell_type": "markdown",
   "metadata": {},
   "source": [
    "1.3 Use the Tweepy library to query additional data via the Twitter API (tweet_json.txt) <a class=\"anchor\" id=\"third1\"></a>"
   ]
  },
  {
   "cell_type": "code",
   "execution_count": 38,
   "metadata": {},
   "outputs": [
    {
     "name": "stderr",
     "output_type": "stream",
     "text": [
      "Rate limit reached. Sleeping for: 127\n"
     ]
    }
   ],
   "source": [
    "consumer_key = 'YOUR CONSUMER KEY'\n",
    "consumer_secret = 'YOUR CONSUMER SECRET'\n",
    "access_token = 'YOUR ACCESS TOKEN'\n",
    "access_secret = 'YOUR ACCESS SECRET'\n",
    "\n",
    "auth = tweepy.OAuthHandler(consumer_key, consumer_secret)\n",
    "auth.set_access_token(access_token, access_secret)\n",
    "\n",
    "api = tweepy.API(auth, wait_on_rate_limit= True)\n",
    "\n",
    "tweetIDErrors = {} # Creates a dictionary of all the twitter ids whose status will not be found.\n",
    "with open('tweet_json.txt', 'w') as file:\n",
    "    for tweet in list(twitter_archive_enhanced.tweet_id): # Iterates through all the tweet_ids\n",
    "        try:\n",
    "            tweet = api.get_status(tweet)._json # Gets all the json data from all the tweet_ids\n",
    "            \"\"\"The dumps() function of the json module dumps a dictionary\n",
    "            into JSON contents, and returns a JSON string.\"\"\"\n",
    "            data = json.dumps(tweet)\n",
    "            print(data, file= file, end= '\\n')                \n",
    "               \n",
    "        except Exception as e:\n",
    "            # Catches all the exceptions and assigns them to the string below.\n",
    "            tweetIDErrors[tweet] = 'No status found with that ID.'"
   ]
  },
  {
   "cell_type": "code",
   "execution_count": 39,
   "metadata": {},
   "outputs": [
    {
     "data": {
      "text/html": [
       "<div>\n",
       "<style scoped>\n",
       "    .dataframe tbody tr th:only-of-type {\n",
       "        vertical-align: middle;\n",
       "    }\n",
       "\n",
       "    .dataframe tbody tr th {\n",
       "        vertical-align: top;\n",
       "    }\n",
       "\n",
       "    .dataframe thead th {\n",
       "        text-align: right;\n",
       "    }\n",
       "</style>\n",
       "<table border=\"1\" class=\"dataframe\">\n",
       "  <thead>\n",
       "    <tr style=\"text-align: right;\">\n",
       "      <th></th>\n",
       "      <th>tweet_id</th>\n",
       "      <th>data</th>\n",
       "      <th>retweet_count</th>\n",
       "      <th>favorite_count</th>\n",
       "    </tr>\n",
       "  </thead>\n",
       "  <tbody>\n",
       "    <tr>\n",
       "      <th>0</th>\n",
       "      <td>892420643555336193</td>\n",
       "      <td>{'created_at': 'Tue Aug 01 16:23:56 +0000 2017...</td>\n",
       "      <td>7010</td>\n",
       "      <td>33829</td>\n",
       "    </tr>\n",
       "    <tr>\n",
       "      <th>1</th>\n",
       "      <td>892177421306343426</td>\n",
       "      <td>{'created_at': 'Tue Aug 01 00:17:27 +0000 2017...</td>\n",
       "      <td>5302</td>\n",
       "      <td>29343</td>\n",
       "    </tr>\n",
       "    <tr>\n",
       "      <th>2</th>\n",
       "      <td>891815181378084864</td>\n",
       "      <td>{'created_at': 'Mon Jul 31 00:18:03 +0000 2017...</td>\n",
       "      <td>3482</td>\n",
       "      <td>22066</td>\n",
       "    </tr>\n",
       "    <tr>\n",
       "      <th>3</th>\n",
       "      <td>891689557279858688</td>\n",
       "      <td>{'created_at': 'Sun Jul 30 15:58:51 +0000 2017...</td>\n",
       "      <td>7219</td>\n",
       "      <td>36919</td>\n",
       "    </tr>\n",
       "    <tr>\n",
       "      <th>4</th>\n",
       "      <td>891327558926688256</td>\n",
       "      <td>{'created_at': 'Sat Jul 29 16:00:24 +0000 2017...</td>\n",
       "      <td>7767</td>\n",
       "      <td>35326</td>\n",
       "    </tr>\n",
       "    <tr>\n",
       "      <th>...</th>\n",
       "      <td>...</td>\n",
       "      <td>...</td>\n",
       "      <td>...</td>\n",
       "      <td>...</td>\n",
       "    </tr>\n",
       "    <tr>\n",
       "      <th>2322</th>\n",
       "      <td>666049248165822465</td>\n",
       "      <td>{'created_at': 'Mon Nov 16 00:24:50 +0000 2015...</td>\n",
       "      <td>37</td>\n",
       "      <td>89</td>\n",
       "    </tr>\n",
       "    <tr>\n",
       "      <th>2323</th>\n",
       "      <td>666044226329800704</td>\n",
       "      <td>{'created_at': 'Mon Nov 16 00:04:52 +0000 2015...</td>\n",
       "      <td>115</td>\n",
       "      <td>247</td>\n",
       "    </tr>\n",
       "    <tr>\n",
       "      <th>2324</th>\n",
       "      <td>666033412701032449</td>\n",
       "      <td>{'created_at': 'Sun Nov 15 23:21:54 +0000 2015...</td>\n",
       "      <td>36</td>\n",
       "      <td>100</td>\n",
       "    </tr>\n",
       "    <tr>\n",
       "      <th>2325</th>\n",
       "      <td>666029285002620928</td>\n",
       "      <td>{'created_at': 'Sun Nov 15 23:05:30 +0000 2015...</td>\n",
       "      <td>39</td>\n",
       "      <td>112</td>\n",
       "    </tr>\n",
       "    <tr>\n",
       "      <th>2326</th>\n",
       "      <td>666020888022790149</td>\n",
       "      <td>{'created_at': 'Sun Nov 15 22:32:08 +0000 2015...</td>\n",
       "      <td>423</td>\n",
       "      <td>2294</td>\n",
       "    </tr>\n",
       "  </tbody>\n",
       "</table>\n",
       "<p>2327 rows × 4 columns</p>\n",
       "</div>"
      ],
      "text/plain": [
       "                tweet_id                                               data  \\\n",
       "0     892420643555336193  {'created_at': 'Tue Aug 01 16:23:56 +0000 2017...   \n",
       "1     892177421306343426  {'created_at': 'Tue Aug 01 00:17:27 +0000 2017...   \n",
       "2     891815181378084864  {'created_at': 'Mon Jul 31 00:18:03 +0000 2017...   \n",
       "3     891689557279858688  {'created_at': 'Sun Jul 30 15:58:51 +0000 2017...   \n",
       "4     891327558926688256  {'created_at': 'Sat Jul 29 16:00:24 +0000 2017...   \n",
       "...                  ...                                                ...   \n",
       "2322  666049248165822465  {'created_at': 'Mon Nov 16 00:24:50 +0000 2015...   \n",
       "2323  666044226329800704  {'created_at': 'Mon Nov 16 00:04:52 +0000 2015...   \n",
       "2324  666033412701032449  {'created_at': 'Sun Nov 15 23:21:54 +0000 2015...   \n",
       "2325  666029285002620928  {'created_at': 'Sun Nov 15 23:05:30 +0000 2015...   \n",
       "2326  666020888022790149  {'created_at': 'Sun Nov 15 22:32:08 +0000 2015...   \n",
       "\n",
       "      retweet_count  favorite_count  \n",
       "0              7010           33829  \n",
       "1              5302           29343  \n",
       "2              3482           22066  \n",
       "3              7219           36919  \n",
       "4              7767           35326  \n",
       "...             ...             ...  \n",
       "2322             37              89  \n",
       "2323            115             247  \n",
       "2324             36             100  \n",
       "2325             39             112  \n",
       "2326            423            2294  \n",
       "\n",
       "[2327 rows x 4 columns]"
      ]
     },
     "execution_count": 39,
     "metadata": {},
     "output_type": "execute_result"
    }
   ],
   "source": [
    "df = []\n",
    "\n",
    "# Reading the file line by line\n",
    "with open('tweet_json.txt', 'r') as file:\n",
    "    for line in file:\n",
    "        data = json.loads(line)    \n",
    "        tweet_id = data['id']\n",
    "        retweet_count = data['retweet_count']\n",
    "        favorite_count = data['favorite_count']\n",
    "        df.append({'tweet_id' : tweet_id,\n",
    "                   'data' : data,\n",
    "                   'retweet_count' : retweet_count,\n",
    "                   'favorite_count' : favorite_count})\n",
    "        \n",
    "twitter_counts_API = pd.DataFrame(df) # Loads the list df into a DataFrame\n",
    "twitter_counts_API"
   ]
  },
  {
   "cell_type": "code",
   "execution_count": 40,
   "metadata": {},
   "outputs": [
    {
     "data": {
      "text/plain": [
       "{888202515573088257: 'No status found with that ID.',\n",
       " 873697596434513921: 'No status found with that ID.',\n",
       " 872668790621863937: 'No status found with that ID.',\n",
       " 872261713294495745: 'No status found with that ID.',\n",
       " 869988702071779329: 'No status found with that ID.',\n",
       " 866816280283807744: 'No status found with that ID.',\n",
       " 861769973181624320: 'No status found with that ID.',\n",
       " 856602993587888130: 'No status found with that ID.',\n",
       " 856330835276025856: 'No status found with that ID.',\n",
       " 851953902622658560: 'No status found with that ID.',\n",
       " 851861385021730816: 'No status found with that ID.',\n",
       " 845459076796616705: 'No status found with that ID.',\n",
       " 844704788403113984: 'No status found with that ID.',\n",
       " 842892208864923648: 'No status found with that ID.',\n",
       " 837366284874571778: 'No status found with that ID.',\n",
       " 837012587749474308: 'No status found with that ID.',\n",
       " 829374341691346946: 'No status found with that ID.',\n",
       " 827228250799742977: 'No status found with that ID.',\n",
       " 812747805718642688: 'No status found with that ID.',\n",
       " 802247111496568832: 'No status found with that ID.',\n",
       " 779123168116150273: 'No status found with that ID.',\n",
       " 775096608509886464: 'No status found with that ID.',\n",
       " 771004394259247104: 'No status found with that ID.',\n",
       " 770743923962707968: 'No status found with that ID.',\n",
       " 766864461642756096: 'No status found with that ID.',\n",
       " 759923798737051648: 'No status found with that ID.',\n",
       " 759566828574212096: 'No status found with that ID.',\n",
       " 754011816964026368: 'No status found with that ID.',\n",
       " 680055455951884288: 'No status found with that ID.'}"
      ]
     },
     "execution_count": 40,
     "metadata": {},
     "output_type": "execute_result"
    }
   ],
   "source": [
    "# Return all the twitter ids whose status were not found.\n",
    "tweetIDErrors"
   ]
  },
  {
   "cell_type": "code",
   "execution_count": 41,
   "metadata": {},
   "outputs": [
    {
     "name": "stdout",
     "output_type": "stream",
     "text": [
      "<class 'pandas.core.frame.DataFrame'>\n",
      "RangeIndex: 2327 entries, 0 to 2326\n",
      "Data columns (total 4 columns):\n",
      " #   Column          Non-Null Count  Dtype \n",
      "---  ------          --------------  ----- \n",
      " 0   tweet_id        2327 non-null   int64 \n",
      " 1   data            2327 non-null   object\n",
      " 2   retweet_count   2327 non-null   int64 \n",
      " 3   favorite_count  2327 non-null   int64 \n",
      "dtypes: int64(3), object(1)\n",
      "memory usage: 72.8+ KB\n"
     ]
    }
   ],
   "source": [
    "twitter_counts_API.info()"
   ]
  },
  {
   "cell_type": "markdown",
   "metadata": {
    "extensions": {
     "jupyter_dashboards": {
      "version": 1,
      "views": {
       "grid_default": {
        "col": 4,
        "height": 4,
        "hidden": false,
        "row": 28,
        "width": 4
       },
       "report_default": {
        "hidden": false
       }
      }
     }
    }
   },
   "source": [
    "## Assessing Data <a class=\"anchor\" id=\"second-title\"></a>\n",
    "In this section, detect and document at least **eight (8) quality issues and two (2) tidiness issue**. You must use **both** visual assessment\n",
    "programmatic assessement to assess the data.\n",
    "\n",
    "**Note:** pay attention to the following key points when you access the data.\n",
    "\n",
    "* You only want original ratings (no retweets) that have images. Though there are 5000+ tweets in the dataset, not all are dog ratings and some are retweets.\n",
    "* Assessing and cleaning the entire dataset completely would require a lot of time, and is not necessary to practice and demonstrate your skills in data wrangling. Therefore, the requirements of this project are only to assess and clean at least 8 quality issues and at least 2 tidiness issues in this dataset.\n",
    "* The fact that the rating numerators are greater than the denominators does not need to be cleaned. This [unique rating system](http://knowyourmeme.com/memes/theyre-good-dogs-brent) is a big part of the popularity of WeRateDogs.\n",
    "* You do not need to gather the tweets beyond August 1st, 2017. You can, but note that you won't be able to gather the image predictions for these tweets since you don't have access to the algorithm used.\n",
    "\n"
   ]
  },
  {
   "cell_type": "markdown",
   "metadata": {},
   "source": [
    "### Quality issues <a class=\"anchor\" id=\"first2\"></a>\n",
    "1. Some columns in the **twitter-archives-enhanced.csv** file have missing data.\n",
    "\n",
    "2. Rows in the text column on the **twitter-archives-enhanced.csv** have links which wouldn't look great on a word cloud.\n",
    "\n",
    "3. Source column in **twitter-archives-enhanced.csv** have irrelevant information for our a dataset.\n",
    "\n",
    "4. Some dog breeds are indicated as false in the **image-predictions.tsv**.\n",
    "\n",
    "5. The column name in **twitter-archives-enhanced.csv** has some names as quite. These are not dogs.\n",
    "\n",
    "6. Some ratings are retweets in **twitter-archives-enhanced.csv** dataset.\n",
    "\n",
    "7. Some expanded urls have more than one link in **twitter-archives-enhanced.csv**.\n",
    "\n",
    "8. Some expanded_urls in **twitter-archives-enhanced.csv** have been duplicated and those that appear first are incorrect. Others are NULL."
   ]
  },
  {
   "cell_type": "markdown",
   "metadata": {
    "extensions": {
     "jupyter_dashboards": {
      "version": 1,
      "views": {
       "grid_default": {
        "col": 0,
        "height": 7,
        "hidden": false,
        "row": 40,
        "width": 12
       },
       "report_default": {
        "hidden": false
       }
      }
     }
    }
   },
   "source": [
    "### Tidiness issues <a class=\"anchor\" id=\"second2\"></a>\n",
    "1. The dog stages should be under one column.\n",
    "\n",
    "2. Classification of dog breeds should be under one column."
   ]
  },
  {
   "cell_type": "markdown",
   "metadata": {
    "extensions": {
     "jupyter_dashboards": {
      "version": 1,
      "views": {
       "grid_default": {
        "col": 4,
        "height": 4,
        "hidden": false,
        "row": 32,
        "width": 4
       },
       "report_default": {
        "hidden": false
       }
      }
     }
    }
   },
   "source": [
    "## Cleaning Data <a class=\"anchor\" id=\"third-title\"></a>\n",
    "In this section, clean **all** of the issues you documented while assessing. \n",
    "\n",
    "**Note:** Make a copy of the original data before cleaning. Cleaning includes merging individual pieces of data according to the rules of [tidy data](https://cran.r-project.org/web/packages/tidyr/vignettes/tidy-data.html). The result should be a high-quality and tidy master pandas DataFrame (or DataFrames, if appropriate)."
   ]
  },
  {
   "cell_type": "code",
   "execution_count": 73,
   "metadata": {},
   "outputs": [],
   "source": [
    "# Make copies of original pieces of data\n",
    "twitter_archive = twitter_archive_enhanced.copy()\n",
    "\n",
    "twitter_image = twitter_image_prediction.copy()\n",
    "\n",
    "twitter_counts = twitter_counts_API.copy()"
   ]
  },
  {
   "cell_type": "markdown",
   "metadata": {},
   "source": [
    "## Quality issues <a class=\"anchor\" id=\"first3\"></a>"
   ]
  },
  {
   "cell_type": "markdown",
   "metadata": {},
   "source": [
    "### Issue #1: <a class=\"anchor\" id=\"issue1\"></a>"
   ]
  },
  {
   "cell_type": "markdown",
   "metadata": {},
   "source": [
    "#### Define:\n",
    "\n",
    "- Cleaning the **twitter-archive-enhanced.csv** columns with a lot of missing data."
   ]
  },
  {
   "cell_type": "markdown",
   "metadata": {},
   "source": [
    "#### Code"
   ]
  },
  {
   "cell_type": "code",
   "execution_count": 74,
   "metadata": {},
   "outputs": [],
   "source": [
    "cols = ['in_reply_to_status_id', 'in_reply_to_user_id', 'retweeted_status_id',\n",
    "       'retweeted_status_user_id', 'retweeted_status_timestamp']\n",
    "\n",
    "twitter_archive.drop(cols, axis= 1, inplace= True)"
   ]
  },
  {
   "cell_type": "markdown",
   "metadata": {},
   "source": [
    "#### Test"
   ]
  },
  {
   "cell_type": "code",
   "execution_count": 75,
   "metadata": {},
   "outputs": [
    {
     "name": "stdout",
     "output_type": "stream",
     "text": [
      "<class 'pandas.core.frame.DataFrame'>\n",
      "RangeIndex: 2356 entries, 0 to 2355\n",
      "Data columns (total 12 columns):\n",
      " #   Column              Non-Null Count  Dtype \n",
      "---  ------              --------------  ----- \n",
      " 0   tweet_id            2356 non-null   int64 \n",
      " 1   timestamp           2356 non-null   object\n",
      " 2   source              2356 non-null   object\n",
      " 3   text                2356 non-null   object\n",
      " 4   expanded_urls       2297 non-null   object\n",
      " 5   rating_numerator    2356 non-null   int64 \n",
      " 6   rating_denominator  2356 non-null   int64 \n",
      " 7   name                2356 non-null   object\n",
      " 8   doggo               2356 non-null   object\n",
      " 9   floofer             2356 non-null   object\n",
      " 10  pupper              2356 non-null   object\n",
      " 11  puppo               2356 non-null   object\n",
      "dtypes: int64(3), object(9)\n",
      "memory usage: 221.0+ KB\n"
     ]
    }
   ],
   "source": [
    "twitter_archive.info()"
   ]
  },
  {
   "cell_type": "markdown",
   "metadata": {},
   "source": [
    "### Issue #2: <a class=\"anchor\" id=\"issue2\"></a>"
   ]
  },
  {
   "cell_type": "markdown",
   "metadata": {
    "collapsed": true,
    "extensions": {
     "jupyter_dashboards": {
      "version": 1,
      "views": {
       "grid_default": {
        "hidden": true
       },
       "report_default": {
        "hidden": true
       }
      }
     }
    }
   },
   "source": [
    "#### Define\n",
    "- Extract only the source of the tweet from `twitter-archives-enhanced.csv`."
   ]
  },
  {
   "cell_type": "markdown",
   "metadata": {},
   "source": [
    "#### Code"
   ]
  },
  {
   "cell_type": "code",
   "execution_count": 76,
   "metadata": {},
   "outputs": [],
   "source": [
    "twitter_archive['source'] = twitter_archive.source.str.extract(r'^(?:<a href=\"https?://.+\">)(.+)(?:</a>)$', expand= True)"
   ]
  },
  {
   "cell_type": "markdown",
   "metadata": {},
   "source": [
    "#### Test"
   ]
  },
  {
   "cell_type": "code",
   "execution_count": 77,
   "metadata": {},
   "outputs": [
    {
     "data": {
      "text/plain": [
       "Twitter for iPhone     2221\n",
       "Vine - Make a Scene      91\n",
       "Twitter Web Client       33\n",
       "TweetDeck                11\n",
       "Name: source, dtype: int64"
      ]
     },
     "execution_count": 77,
     "metadata": {},
     "output_type": "execute_result"
    }
   ],
   "source": [
    "twitter_archive.source.value_counts()"
   ]
  },
  {
   "cell_type": "markdown",
   "metadata": {},
   "source": [
    "### Issue #3: <a class=\"anchor\" id=\"issue3\"></a>"
   ]
  },
  {
   "cell_type": "markdown",
   "metadata": {},
   "source": [
    "#### Define"
   ]
  },
  {
   "cell_type": "markdown",
   "metadata": {},
   "source": [
    "- Removing the links in the text column on the `twitter-archives-enhanced.csv`."
   ]
  },
  {
   "cell_type": "markdown",
   "metadata": {},
   "source": [
    "#### Code"
   ]
  },
  {
   "cell_type": "code",
   "execution_count": 78,
   "metadata": {},
   "outputs": [],
   "source": [
    "twitter_archive['text'] = twitter_archive.text.str.extract(r'^(.+)(?:https?://t.co/[\\w]+)$', expand= True)"
   ]
  },
  {
   "cell_type": "markdown",
   "metadata": {},
   "source": [
    "#### Test"
   ]
  },
  {
   "cell_type": "code",
   "execution_count": 79,
   "metadata": {},
   "outputs": [
    {
     "data": {
      "text/plain": [
       "array([\"This is Phineas. He's a mystical boy. Only ever appears in the hole of a donut. 13/10 \",\n",
       "       \"This is Tilly. She's just checking pup on you. Hopes you're doing ok. If not, she's available for pats, snugs, boops, the whole bit. 13/10 \",\n",
       "       'This is Archie. He is a rare Norwegian Pouncing Corgo. Lives in the tall grass. You never know when one may strike. 12/10 ',\n",
       "       ...,\n",
       "       'Here is a very happy pup. Big fan of well-maintained decks. Just look at that tongue. 9/10 would cuddle af ',\n",
       "       'This is a western brown Mitsubishi terrier. Upset about leaf. Actually 2 dogs here. 7/10 would walk the shit out of ',\n",
       "       'Here we have a Japanese Irish Setter. Lost eye in Vietnam (?). Big fan of relaxing on stair. 8/10 would pet '],\n",
       "      dtype=object)"
      ]
     },
     "execution_count": 79,
     "metadata": {},
     "output_type": "execute_result"
    }
   ],
   "source": [
    "twitter_archive.text.unique()"
   ]
  },
  {
   "cell_type": "markdown",
   "metadata": {},
   "source": [
    "### Issue #4: <a class=\"anchor\" id=\"issue4\"></a>"
   ]
  },
  {
   "cell_type": "markdown",
   "metadata": {},
   "source": [
    "#### Define"
   ]
  },
  {
   "cell_type": "markdown",
   "metadata": {},
   "source": [
    "- Remove the rows where column name in `twitter-archives-enhanced.csv` has some names as quite. These are not dogs"
   ]
  },
  {
   "cell_type": "markdown",
   "metadata": {},
   "source": [
    "#### Code"
   ]
  },
  {
   "cell_type": "code",
   "execution_count": 80,
   "metadata": {},
   "outputs": [],
   "source": [
    "twitter_archive = twitter_archive[twitter_archive['name'] != 'quite']"
   ]
  },
  {
   "cell_type": "markdown",
   "metadata": {},
   "source": [
    "#### Test"
   ]
  },
  {
   "cell_type": "code",
   "execution_count": 81,
   "metadata": {},
   "outputs": [
    {
     "data": {
      "text/html": [
       "<div>\n",
       "<style scoped>\n",
       "    .dataframe tbody tr th:only-of-type {\n",
       "        vertical-align: middle;\n",
       "    }\n",
       "\n",
       "    .dataframe tbody tr th {\n",
       "        vertical-align: top;\n",
       "    }\n",
       "\n",
       "    .dataframe thead th {\n",
       "        text-align: right;\n",
       "    }\n",
       "</style>\n",
       "<table border=\"1\" class=\"dataframe\">\n",
       "  <thead>\n",
       "    <tr style=\"text-align: right;\">\n",
       "      <th></th>\n",
       "      <th>tweet_id</th>\n",
       "      <th>timestamp</th>\n",
       "      <th>source</th>\n",
       "      <th>text</th>\n",
       "      <th>expanded_urls</th>\n",
       "      <th>rating_numerator</th>\n",
       "      <th>rating_denominator</th>\n",
       "      <th>name</th>\n",
       "      <th>doggo</th>\n",
       "      <th>floofer</th>\n",
       "      <th>pupper</th>\n",
       "      <th>puppo</th>\n",
       "    </tr>\n",
       "  </thead>\n",
       "  <tbody>\n",
       "  </tbody>\n",
       "</table>\n",
       "</div>"
      ],
      "text/plain": [
       "Empty DataFrame\n",
       "Columns: [tweet_id, timestamp, source, text, expanded_urls, rating_numerator, rating_denominator, name, doggo, floofer, pupper, puppo]\n",
       "Index: []"
      ]
     },
     "execution_count": 81,
     "metadata": {},
     "output_type": "execute_result"
    }
   ],
   "source": [
    "twitter_archive.query('name == \"quite\"')"
   ]
  },
  {
   "cell_type": "markdown",
   "metadata": {},
   "source": [
    "### Issue #5: <a class=\"anchor\" id=\"issue5\"></a>"
   ]
  },
  {
   "cell_type": "markdown",
   "metadata": {},
   "source": [
    "#### Define"
   ]
  },
  {
   "cell_type": "markdown",
   "metadata": {},
   "source": [
    "- Remove the ratings which are retweets from `twitter-archive-enhanced.csv`."
   ]
  },
  {
   "cell_type": "markdown",
   "metadata": {},
   "source": [
    "#### Code"
   ]
  },
  {
   "cell_type": "code",
   "execution_count": 82,
   "metadata": {},
   "outputs": [],
   "source": [
    "twitter_archive['text_modified'] = twitter_archive.text.str.extract(r'^(RT @)(?:.+)$', expand= True)\n",
    "\n",
    "twitter_archive = twitter_archive[twitter_archive['text_modified'] != 'RT @']\n",
    "\n",
    "twitter_archive.drop('text_modified', axis= 1, inplace= True)"
   ]
  },
  {
   "cell_type": "markdown",
   "metadata": {},
   "source": [
    "#### Test"
   ]
  },
  {
   "cell_type": "code",
   "execution_count": 83,
   "metadata": {},
   "outputs": [
    {
     "data": {
      "text/plain": [
       "False    2039\n",
       "Name: text, dtype: int64"
      ]
     },
     "execution_count": 83,
     "metadata": {},
     "output_type": "execute_result"
    }
   ],
   "source": [
    "twitter_archive.text.str.contains('RT @').value_counts()"
   ]
  },
  {
   "cell_type": "markdown",
   "metadata": {},
   "source": [
    "### Issue #6: <a class=\"anchor\" id=\"issue6\"></a>"
   ]
  },
  {
   "cell_type": "markdown",
   "metadata": {},
   "source": [
    "#### Define"
   ]
  },
  {
   "cell_type": "markdown",
   "metadata": {},
   "source": [
    "- Remove the dog breeds that are indicated as **False** in the `image-predictions.tsv`."
   ]
  },
  {
   "cell_type": "markdown",
   "metadata": {},
   "source": [
    "#### Code"
   ]
  },
  {
   "cell_type": "code",
   "execution_count": 84,
   "metadata": {},
   "outputs": [
    {
     "name": "stderr",
     "output_type": "stream",
     "text": [
      "C:\\Users\\dell\\anaconda3\\lib\\site-packages\\pandas\\core\\indexing.py:1817: SettingWithCopyWarning: \n",
      "A value is trying to be set on a copy of a slice from a DataFrame.\n",
      "Try using .loc[row_indexer,col_indexer] = value instead\n",
      "\n",
      "See the caveats in the documentation: https://pandas.pydata.org/pandas-docs/stable/user_guide/indexing.html#returning-a-view-versus-a-copy\n",
      "  self._setitem_single_column(loc, value, pi)\n"
     ]
    }
   ],
   "source": [
    "a = (twitter_image['p1_dog'] == True) & (twitter_image['p2_dog'] == True) & (twitter_image['p3_dog'] == True)\n",
    "b = (twitter_image['p1_dog'] == True) & (twitter_image['p2_dog'] == True) & (twitter_image['p3_dog'] == False)\n",
    "c = (twitter_image['p1_dog'] == True) & (twitter_image['p2_dog'] == False) & (twitter_image['p3_dog'] == True)\n",
    "d = (twitter_image['p1_dog'] == True) & (twitter_image['p2_dog'] == False) & (twitter_image['p3_dog'] == False)\n",
    "e = (twitter_image['p1_dog'] == False) & (twitter_image['p2_dog'] == True) & (twitter_image['p3_dog'] == True)\n",
    "f = (twitter_image['p1_dog'] == False) & (twitter_image['p2_dog'] == True) & (twitter_image['p3_dog'] == False)\n",
    "g = (twitter_image['p1_dog'] == False) & (twitter_image['p2_dog'] == False) & (twitter_image['p3_dog'] == True)\n",
    "h = (twitter_image['p1_dog'] == False) & (twitter_image['p2_dog'] == False) & (twitter_image['p3_dog'] == False)\n",
    "\n",
    "a = twitter_image[a]\n",
    "b = twitter_image[b]\n",
    "c = twitter_image[c]\n",
    "d = twitter_image[d]\n",
    "e = twitter_image[e]\n",
    "f = twitter_image[f]\n",
    "g = twitter_image[g]\n",
    "h = twitter_image[h]\n",
    "\n",
    "a.iloc[:, 6:] = np.nan\n",
    "b.iloc[:, 6:] = np.nan\n",
    "c.iloc[:, 6:] = np.nan\n",
    "d.iloc[:, 6:] = np.nan\n",
    "e.loc[:, ['p1', 'p1_conf', 'p1_dog', 'p3', 'p3_conf', 'p3_dog']] = np.nan\n",
    "f.loc[:, ['p1', 'p1_conf', 'p1_dog', 'p3', 'p3_conf', 'p3_dog']] = np.nan\n",
    "g.loc[:, ['p1', 'p1_conf', 'p1_dog', 'p2', 'p2_conf', 'p2_dog']] = np.nan\n",
    "h.iloc[:, 3:] = np.nan\n",
    "\n",
    "twitter_image = pd.concat([a, b, c, d, e, f, g, h], ignore_index= True)"
   ]
  },
  {
   "cell_type": "markdown",
   "metadata": {},
   "source": [
    "#### Test"
   ]
  },
  {
   "cell_type": "code",
   "execution_count": 85,
   "metadata": {},
   "outputs": [
    {
     "name": "stdout",
     "output_type": "stream",
     "text": [
      "<class 'pandas.core.frame.DataFrame'>\n",
      "RangeIndex: 2075 entries, 0 to 2074\n",
      "Data columns (total 12 columns):\n",
      " #   Column    Non-Null Count  Dtype  \n",
      "---  ------    --------------  -----  \n",
      " 0   tweet_id  2075 non-null   int64  \n",
      " 1   jpg_url   2075 non-null   object \n",
      " 2   img_num   2075 non-null   int64  \n",
      " 3   p1        1532 non-null   object \n",
      " 4   p1_conf   1532 non-null   float64\n",
      " 5   p1_dog    1532 non-null   float64\n",
      " 6   p2        155 non-null    object \n",
      " 7   p2_conf   155 non-null    float64\n",
      " 8   p2_dog    155 non-null    float64\n",
      " 9   p3        64 non-null     object \n",
      " 10  p3_conf   64 non-null     float64\n",
      " 11  p3_dog    64 non-null     float64\n",
      "dtypes: float64(6), int64(2), object(4)\n",
      "memory usage: 194.7+ KB\n"
     ]
    }
   ],
   "source": [
    "twitter_image.info()"
   ]
  },
  {
   "cell_type": "markdown",
   "metadata": {},
   "source": [
    "### Issue #7: <a class=\"anchor\" id=\"issue7\"></a>"
   ]
  },
  {
   "cell_type": "markdown",
   "metadata": {},
   "source": [
    "#### Define"
   ]
  },
  {
   "cell_type": "markdown",
   "metadata": {},
   "source": [
    "- Remove more than one expanded urls"
   ]
  },
  {
   "cell_type": "markdown",
   "metadata": {},
   "source": [
    "#### Code"
   ]
  },
  {
   "cell_type": "code",
   "execution_count": 86,
   "metadata": {},
   "outputs": [],
   "source": [
    "twitter_archive['expanded_urls'] = twitter_archive.expanded_urls.str.extract(r'^(?:.)?(https://twitter.com/dog_rates/status/[\\d]+/(photo|video)/1)(?:.*)$', expand= True)[0]"
   ]
  },
  {
   "cell_type": "markdown",
   "metadata": {},
   "source": [
    "#### Test"
   ]
  },
  {
   "cell_type": "code",
   "execution_count": 87,
   "metadata": {},
   "outputs": [
    {
     "data": {
      "text/plain": [
       "0       https://twitter.com/dog_rates/status/892420643...\n",
       "1       https://twitter.com/dog_rates/status/892177421...\n",
       "2       https://twitter.com/dog_rates/status/891815181...\n",
       "3       https://twitter.com/dog_rates/status/891689557...\n",
       "4       https://twitter.com/dog_rates/status/891327558...\n",
       "                              ...                        \n",
       "2351    https://twitter.com/dog_rates/status/666049248...\n",
       "2352    https://twitter.com/dog_rates/status/666044226...\n",
       "2353    https://twitter.com/dog_rates/status/666033412...\n",
       "2354    https://twitter.com/dog_rates/status/666029285...\n",
       "2355    https://twitter.com/dog_rates/status/666020888...\n",
       "Name: expanded_urls, Length: 2258, dtype: object"
      ]
     },
     "execution_count": 87,
     "metadata": {},
     "output_type": "execute_result"
    }
   ],
   "source": [
    "twitter_archive.expanded_urls"
   ]
  },
  {
   "cell_type": "markdown",
   "metadata": {},
   "source": [
    "### Issue #8: <a class=\"anchor\" id=\"issue8\"></a>"
   ]
  },
  {
   "cell_type": "markdown",
   "metadata": {},
   "source": [
    "#### Define"
   ]
  },
  {
   "cell_type": "markdown",
   "metadata": {},
   "source": [
    "- Assign the duplicated and NaN expanded urls to their correct status ids `twitter-archive-enhanced.csv`."
   ]
  },
  {
   "cell_type": "markdown",
   "metadata": {},
   "source": [
    "#### Code"
   ]
  },
  {
   "cell_type": "code",
   "execution_count": 88,
   "metadata": {},
   "outputs": [
    {
     "name": "stderr",
     "output_type": "stream",
     "text": [
      "C:\\Users\\dell\\AppData\\Local\\Temp/ipykernel_6736/1527701608.py:4: FutureWarning: Columnar iteration over characters will be deprecated in future releases.\n",
      "  first, last = twitter_archive.expanded_urls.str\n"
     ]
    }
   ],
   "source": [
    "twitter_archive.loc[:, 'expanded_urls'] = np.nan\n",
    "twitter_archive.expanded_urls.fillna('https://twitter.com/dog_rates/status/0/photo/1', inplace= True)\n",
    "twitter_archive['expanded_urls'] = twitter_archive.expanded_urls.str.split('0')\n",
    "first, last = twitter_archive.expanded_urls.str\n",
    "twitter_archive['expanded_urls'] = first + twitter_archive.tweet_id.astype(str) + last"
   ]
  },
  {
   "cell_type": "markdown",
   "metadata": {},
   "source": [
    "#### Test"
   ]
  },
  {
   "cell_type": "code",
   "execution_count": 89,
   "metadata": {},
   "outputs": [
    {
     "data": {
      "text/plain": [
       "(0, 0)"
      ]
     },
     "execution_count": 89,
     "metadata": {},
     "output_type": "execute_result"
    }
   ],
   "source": [
    "twitter_archive.expanded_urls.duplicated().sum(), twitter_archive.expanded_urls.isna().sum()"
   ]
  },
  {
   "cell_type": "code",
   "execution_count": 90,
   "metadata": {},
   "outputs": [
    {
     "data": {
      "text/html": [
       "<div>\n",
       "<style scoped>\n",
       "    .dataframe tbody tr th:only-of-type {\n",
       "        vertical-align: middle;\n",
       "    }\n",
       "\n",
       "    .dataframe tbody tr th {\n",
       "        vertical-align: top;\n",
       "    }\n",
       "\n",
       "    .dataframe thead th {\n",
       "        text-align: right;\n",
       "    }\n",
       "</style>\n",
       "<table border=\"1\" class=\"dataframe\">\n",
       "  <thead>\n",
       "    <tr style=\"text-align: right;\">\n",
       "      <th></th>\n",
       "      <th>tweet_id</th>\n",
       "      <th>timestamp</th>\n",
       "      <th>source</th>\n",
       "      <th>text</th>\n",
       "      <th>expanded_urls</th>\n",
       "      <th>rating_numerator</th>\n",
       "      <th>rating_denominator</th>\n",
       "      <th>name</th>\n",
       "      <th>doggo</th>\n",
       "      <th>floofer</th>\n",
       "      <th>pupper</th>\n",
       "      <th>puppo</th>\n",
       "    </tr>\n",
       "  </thead>\n",
       "  <tbody>\n",
       "    <tr>\n",
       "      <th>102</th>\n",
       "      <td>872620804844003328</td>\n",
       "      <td>2017-06-08 01:06:27 +0000</td>\n",
       "      <td>Twitter for iPhone</td>\n",
       "      <td>This is Monkey. She's supporting owners everyw...</td>\n",
       "      <td>https://twitter.com/dog_rates/status/872620804...</td>\n",
       "      <td>13</td>\n",
       "      <td>10</td>\n",
       "      <td>Monkey</td>\n",
       "      <td>None</td>\n",
       "      <td>None</td>\n",
       "      <td>None</td>\n",
       "      <td>None</td>\n",
       "    </tr>\n",
       "    <tr>\n",
       "      <th>1338</th>\n",
       "      <td>705066031337840642</td>\n",
       "      <td>2016-03-02 16:23:36 +0000</td>\n",
       "      <td>Twitter for iPhone</td>\n",
       "      <td>This is Reese. He's a Chilean Sohcahtoa. Loves...</td>\n",
       "      <td>https://twitter.com/dog_rates/status/705066031...</td>\n",
       "      <td>12</td>\n",
       "      <td>10</td>\n",
       "      <td>Reese</td>\n",
       "      <td>None</td>\n",
       "      <td>None</td>\n",
       "      <td>None</td>\n",
       "      <td>None</td>\n",
       "    </tr>\n",
       "    <tr>\n",
       "      <th>1091</th>\n",
       "      <td>737445876994609152</td>\n",
       "      <td>2016-05-31 00:49:32 +0000</td>\n",
       "      <td>Twitter for iPhone</td>\n",
       "      <td>Just wanted to share this super rare Rainbow F...</td>\n",
       "      <td>https://twitter.com/dog_rates/status/737445876...</td>\n",
       "      <td>13</td>\n",
       "      <td>10</td>\n",
       "      <td>None</td>\n",
       "      <td>None</td>\n",
       "      <td>floofer</td>\n",
       "      <td>None</td>\n",
       "      <td>None</td>\n",
       "    </tr>\n",
       "    <tr>\n",
       "      <th>2038</th>\n",
       "      <td>671550332464455680</td>\n",
       "      <td>2015-12-01 04:44:10 +0000</td>\n",
       "      <td>Twitter for iPhone</td>\n",
       "      <td>NaN</td>\n",
       "      <td>https://twitter.com/dog_rates/status/671550332...</td>\n",
       "      <td>1</td>\n",
       "      <td>10</td>\n",
       "      <td>None</td>\n",
       "      <td>None</td>\n",
       "      <td>None</td>\n",
       "      <td>None</td>\n",
       "      <td>None</td>\n",
       "    </tr>\n",
       "    <tr>\n",
       "      <th>320</th>\n",
       "      <td>834458053273591808</td>\n",
       "      <td>2017-02-22 17:41:18 +0000</td>\n",
       "      <td>Twitter for iPhone</td>\n",
       "      <td>Meet Chester (bottom) &amp;amp; Harold (top). They...</td>\n",
       "      <td>https://twitter.com/dog_rates/status/834458053...</td>\n",
       "      <td>12</td>\n",
       "      <td>10</td>\n",
       "      <td>Chester</td>\n",
       "      <td>None</td>\n",
       "      <td>None</td>\n",
       "      <td>None</td>\n",
       "      <td>None</td>\n",
       "    </tr>\n",
       "    <tr>\n",
       "      <th>1190</th>\n",
       "      <td>718234618122661888</td>\n",
       "      <td>2016-04-08 00:30:51 +0000</td>\n",
       "      <td>Twitter for iPhone</td>\n",
       "      <td>This is Suki. She was born with a blurry tail ...</td>\n",
       "      <td>https://twitter.com/dog_rates/status/718234618...</td>\n",
       "      <td>11</td>\n",
       "      <td>10</td>\n",
       "      <td>Suki</td>\n",
       "      <td>None</td>\n",
       "      <td>None</td>\n",
       "      <td>None</td>\n",
       "      <td>None</td>\n",
       "    </tr>\n",
       "    <tr>\n",
       "      <th>1827</th>\n",
       "      <td>676430933382295552</td>\n",
       "      <td>2015-12-14 15:57:56 +0000</td>\n",
       "      <td>Twitter for iPhone</td>\n",
       "      <td>Meet Duke. He's an Urban Parmesan. They know h...</td>\n",
       "      <td>https://twitter.com/dog_rates/status/676430933...</td>\n",
       "      <td>10</td>\n",
       "      <td>10</td>\n",
       "      <td>Duke</td>\n",
       "      <td>None</td>\n",
       "      <td>None</td>\n",
       "      <td>None</td>\n",
       "      <td>None</td>\n",
       "    </tr>\n",
       "    <tr>\n",
       "      <th>2162</th>\n",
       "      <td>669393256313184256</td>\n",
       "      <td>2015-11-25 05:52:43 +0000</td>\n",
       "      <td>Twitter for iPhone</td>\n",
       "      <td>Meet Ronduh. She's a Finnish Checkered Blitzkr...</td>\n",
       "      <td>https://twitter.com/dog_rates/status/669393256...</td>\n",
       "      <td>10</td>\n",
       "      <td>10</td>\n",
       "      <td>Ronduh</td>\n",
       "      <td>None</td>\n",
       "      <td>None</td>\n",
       "      <td>None</td>\n",
       "      <td>None</td>\n",
       "    </tr>\n",
       "    <tr>\n",
       "      <th>133</th>\n",
       "      <td>866720684873056260</td>\n",
       "      <td>2017-05-22 18:21:28 +0000</td>\n",
       "      <td>Twitter for iPhone</td>\n",
       "      <td>He was providing for his family 13/10 how dare...</td>\n",
       "      <td>https://twitter.com/dog_rates/status/866720684...</td>\n",
       "      <td>13</td>\n",
       "      <td>10</td>\n",
       "      <td>None</td>\n",
       "      <td>None</td>\n",
       "      <td>None</td>\n",
       "      <td>None</td>\n",
       "      <td>None</td>\n",
       "    </tr>\n",
       "    <tr>\n",
       "      <th>1636</th>\n",
       "      <td>684200372118904832</td>\n",
       "      <td>2016-01-05 02:30:55 +0000</td>\n",
       "      <td>Twitter for iPhone</td>\n",
       "      <td>Gang of fearless hoofed puppers here. Straight...</td>\n",
       "      <td>https://twitter.com/dog_rates/status/684200372...</td>\n",
       "      <td>6</td>\n",
       "      <td>10</td>\n",
       "      <td>None</td>\n",
       "      <td>None</td>\n",
       "      <td>None</td>\n",
       "      <td>None</td>\n",
       "      <td>None</td>\n",
       "    </tr>\n",
       "    <tr>\n",
       "      <th>1612</th>\n",
       "      <td>685321586178670592</td>\n",
       "      <td>2016-01-08 04:46:13 +0000</td>\n",
       "      <td>Twitter for iPhone</td>\n",
       "      <td>This is Rocky. He sleeps like a psychopath. 10...</td>\n",
       "      <td>https://twitter.com/dog_rates/status/685321586...</td>\n",
       "      <td>10</td>\n",
       "      <td>10</td>\n",
       "      <td>Rocky</td>\n",
       "      <td>None</td>\n",
       "      <td>None</td>\n",
       "      <td>None</td>\n",
       "      <td>None</td>\n",
       "    </tr>\n",
       "    <tr>\n",
       "      <th>1462</th>\n",
       "      <td>694905863685980160</td>\n",
       "      <td>2016-02-03 15:30:43 +0000</td>\n",
       "      <td>Twitter for iPhone</td>\n",
       "      <td>This is Archie. He's a Bisquick Taj Mapaw. Too...</td>\n",
       "      <td>https://twitter.com/dog_rates/status/694905863...</td>\n",
       "      <td>10</td>\n",
       "      <td>10</td>\n",
       "      <td>Archie</td>\n",
       "      <td>None</td>\n",
       "      <td>None</td>\n",
       "      <td>None</td>\n",
       "      <td>None</td>\n",
       "    </tr>\n",
       "    <tr>\n",
       "      <th>21</th>\n",
       "      <td>887705289381826560</td>\n",
       "      <td>2017-07-19 16:06:48 +0000</td>\n",
       "      <td>Twitter for iPhone</td>\n",
       "      <td>This is Jeffrey. He has a monopoly on the pool...</td>\n",
       "      <td>https://twitter.com/dog_rates/status/887705289...</td>\n",
       "      <td>13</td>\n",
       "      <td>10</td>\n",
       "      <td>Jeffrey</td>\n",
       "      <td>None</td>\n",
       "      <td>None</td>\n",
       "      <td>None</td>\n",
       "      <td>None</td>\n",
       "    </tr>\n",
       "    <tr>\n",
       "      <th>1109</th>\n",
       "      <td>733828123016450049</td>\n",
       "      <td>2016-05-21 01:13:53 +0000</td>\n",
       "      <td>Twitter for iPhone</td>\n",
       "      <td>This is Terry. The harder you hug him the fart...</td>\n",
       "      <td>https://twitter.com/dog_rates/status/733828123...</td>\n",
       "      <td>10</td>\n",
       "      <td>10</td>\n",
       "      <td>Terry</td>\n",
       "      <td>None</td>\n",
       "      <td>None</td>\n",
       "      <td>None</td>\n",
       "      <td>None</td>\n",
       "    </tr>\n",
       "    <tr>\n",
       "      <th>2293</th>\n",
       "      <td>667152164079423490</td>\n",
       "      <td>2015-11-19 01:27:25 +0000</td>\n",
       "      <td>Twitter for iPhone</td>\n",
       "      <td>This is Pipsy. He is a fluffball. Enjoys trave...</td>\n",
       "      <td>https://twitter.com/dog_rates/status/667152164...</td>\n",
       "      <td>12</td>\n",
       "      <td>10</td>\n",
       "      <td>Pipsy</td>\n",
       "      <td>None</td>\n",
       "      <td>None</td>\n",
       "      <td>None</td>\n",
       "      <td>None</td>\n",
       "    </tr>\n",
       "    <tr>\n",
       "      <th>217</th>\n",
       "      <td>850380195714523136</td>\n",
       "      <td>2017-04-07 16:10:12 +0000</td>\n",
       "      <td>Twitter for iPhone</td>\n",
       "      <td>This is Leo. He's a personal triathlon coach. ...</td>\n",
       "      <td>https://twitter.com/dog_rates/status/850380195...</td>\n",
       "      <td>13</td>\n",
       "      <td>10</td>\n",
       "      <td>Leo</td>\n",
       "      <td>None</td>\n",
       "      <td>None</td>\n",
       "      <td>None</td>\n",
       "      <td>None</td>\n",
       "    </tr>\n",
       "    <tr>\n",
       "      <th>1929</th>\n",
       "      <td>674042553264685056</td>\n",
       "      <td>2015-12-08 01:47:22 +0000</td>\n",
       "      <td>Twitter for iPhone</td>\n",
       "      <td>Yea I can't handle the cuteness anymore. Curls...</td>\n",
       "      <td>https://twitter.com/dog_rates/status/674042553...</td>\n",
       "      <td>12</td>\n",
       "      <td>10</td>\n",
       "      <td>None</td>\n",
       "      <td>None</td>\n",
       "      <td>None</td>\n",
       "      <td>None</td>\n",
       "      <td>None</td>\n",
       "    </tr>\n",
       "    <tr>\n",
       "      <th>1867</th>\n",
       "      <td>675334060156301312</td>\n",
       "      <td>2015-12-11 15:19:21 +0000</td>\n",
       "      <td>Twitter for iPhone</td>\n",
       "      <td>Good morning here's a grass pupper. 12/10</td>\n",
       "      <td>https://twitter.com/dog_rates/status/675334060...</td>\n",
       "      <td>12</td>\n",
       "      <td>10</td>\n",
       "      <td>None</td>\n",
       "      <td>None</td>\n",
       "      <td>None</td>\n",
       "      <td>pupper</td>\n",
       "      <td>None</td>\n",
       "    </tr>\n",
       "    <tr>\n",
       "      <th>681</th>\n",
       "      <td>788765914992902144</td>\n",
       "      <td>2016-10-19 15:37:03 +0000</td>\n",
       "      <td>Twitter for iPhone</td>\n",
       "      <td>This is Butter. She can have whatever she want...</td>\n",
       "      <td>https://twitter.com/dog_rates/status/788765914...</td>\n",
       "      <td>12</td>\n",
       "      <td>10</td>\n",
       "      <td>Butter</td>\n",
       "      <td>None</td>\n",
       "      <td>None</td>\n",
       "      <td>None</td>\n",
       "      <td>None</td>\n",
       "    </tr>\n",
       "    <tr>\n",
       "      <th>2090</th>\n",
       "      <td>670786190031921152</td>\n",
       "      <td>2015-11-29 02:07:44 +0000</td>\n",
       "      <td>Twitter for iPhone</td>\n",
       "      <td>This is Creg. You offered him a ride to work b...</td>\n",
       "      <td>https://twitter.com/dog_rates/status/670786190...</td>\n",
       "      <td>8</td>\n",
       "      <td>10</td>\n",
       "      <td>Creg</td>\n",
       "      <td>None</td>\n",
       "      <td>None</td>\n",
       "      <td>None</td>\n",
       "      <td>None</td>\n",
       "    </tr>\n",
       "    <tr>\n",
       "      <th>1320</th>\n",
       "      <td>706346369204748288</td>\n",
       "      <td>2016-03-06 05:11:12 +0000</td>\n",
       "      <td>Twitter for iPhone</td>\n",
       "      <td>This is Koda. She's a Beneboom Cumberwiggle. 1...</td>\n",
       "      <td>https://twitter.com/dog_rates/status/706346369...</td>\n",
       "      <td>12</td>\n",
       "      <td>10</td>\n",
       "      <td>Koda</td>\n",
       "      <td>None</td>\n",
       "      <td>None</td>\n",
       "      <td>None</td>\n",
       "      <td>None</td>\n",
       "    </tr>\n",
       "    <tr>\n",
       "      <th>2050</th>\n",
       "      <td>671497587707535361</td>\n",
       "      <td>2015-12-01 01:14:35 +0000</td>\n",
       "      <td>Twitter for iPhone</td>\n",
       "      <td>This is Pip. He is a ship captain. Many years ...</td>\n",
       "      <td>https://twitter.com/dog_rates/status/671497587...</td>\n",
       "      <td>11</td>\n",
       "      <td>10</td>\n",
       "      <td>Pip</td>\n",
       "      <td>None</td>\n",
       "      <td>None</td>\n",
       "      <td>None</td>\n",
       "      <td>None</td>\n",
       "    </tr>\n",
       "    <tr>\n",
       "      <th>898</th>\n",
       "      <td>758854675097526272</td>\n",
       "      <td>2016-07-29 02:40:28 +0000</td>\n",
       "      <td>Twitter for iPhone</td>\n",
       "      <td>This is Lilli Bee &amp;amp; Honey Bear. Unfortunat...</td>\n",
       "      <td>https://twitter.com/dog_rates/status/758854675...</td>\n",
       "      <td>11</td>\n",
       "      <td>10</td>\n",
       "      <td>Lilli</td>\n",
       "      <td>None</td>\n",
       "      <td>None</td>\n",
       "      <td>None</td>\n",
       "      <td>None</td>\n",
       "    </tr>\n",
       "    <tr>\n",
       "      <th>1431</th>\n",
       "      <td>697516214579523584</td>\n",
       "      <td>2016-02-10 20:23:19 +0000</td>\n",
       "      <td>Vine - Make a Scene</td>\n",
       "      <td>Say hello to Pherb. He does parkour. 9/10</td>\n",
       "      <td>https://twitter.com/dog_rates/status/697516214...</td>\n",
       "      <td>9</td>\n",
       "      <td>10</td>\n",
       "      <td>Pherb</td>\n",
       "      <td>None</td>\n",
       "      <td>None</td>\n",
       "      <td>None</td>\n",
       "      <td>None</td>\n",
       "    </tr>\n",
       "    <tr>\n",
       "      <th>1330</th>\n",
       "      <td>705786532653883392</td>\n",
       "      <td>2016-03-04 16:06:36 +0000</td>\n",
       "      <td>Twitter for iPhone</td>\n",
       "      <td>Seriously, add us 🐶 11/10 for sad wet pupper</td>\n",
       "      <td>https://twitter.com/dog_rates/status/705786532...</td>\n",
       "      <td>11</td>\n",
       "      <td>10</td>\n",
       "      <td>None</td>\n",
       "      <td>None</td>\n",
       "      <td>None</td>\n",
       "      <td>pupper</td>\n",
       "      <td>None</td>\n",
       "    </tr>\n",
       "    <tr>\n",
       "      <th>882</th>\n",
       "      <td>760290219849637889</td>\n",
       "      <td>2016-08-02 01:44:48 +0000</td>\n",
       "      <td>Twitter Web Client</td>\n",
       "      <td>This is Rocco. He's doing his best. 13/10 some...</td>\n",
       "      <td>https://twitter.com/dog_rates/status/760290219...</td>\n",
       "      <td>13</td>\n",
       "      <td>10</td>\n",
       "      <td>Rocco</td>\n",
       "      <td>None</td>\n",
       "      <td>None</td>\n",
       "      <td>None</td>\n",
       "      <td>None</td>\n",
       "    </tr>\n",
       "    <tr>\n",
       "      <th>628</th>\n",
       "      <td>794926597468000259</td>\n",
       "      <td>2016-11-05 15:37:24 +0000</td>\n",
       "      <td>Twitter for iPhone</td>\n",
       "      <td>This is Mack. He's rather h*ckin sleepy. Excep...</td>\n",
       "      <td>https://twitter.com/dog_rates/status/794926597...</td>\n",
       "      <td>12</td>\n",
       "      <td>10</td>\n",
       "      <td>Mack</td>\n",
       "      <td>None</td>\n",
       "      <td>None</td>\n",
       "      <td>None</td>\n",
       "      <td>None</td>\n",
       "    </tr>\n",
       "    <tr>\n",
       "      <th>404</th>\n",
       "      <td>824025158776213504</td>\n",
       "      <td>2017-01-24 22:44:42 +0000</td>\n",
       "      <td>Twitter for iPhone</td>\n",
       "      <td>\"I wish we were dogs\" 14/10 for @BadlandsNPS</td>\n",
       "      <td>https://twitter.com/dog_rates/status/824025158...</td>\n",
       "      <td>14</td>\n",
       "      <td>10</td>\n",
       "      <td>None</td>\n",
       "      <td>None</td>\n",
       "      <td>None</td>\n",
       "      <td>None</td>\n",
       "      <td>None</td>\n",
       "    </tr>\n",
       "    <tr>\n",
       "      <th>1760</th>\n",
       "      <td>678708137298427904</td>\n",
       "      <td>2015-12-20 22:46:44 +0000</td>\n",
       "      <td>Vine - Make a Scene</td>\n",
       "      <td>Here we are witnessing a wild field pupper. Lo...</td>\n",
       "      <td>https://twitter.com/dog_rates/status/678708137...</td>\n",
       "      <td>10</td>\n",
       "      <td>10</td>\n",
       "      <td>None</td>\n",
       "      <td>None</td>\n",
       "      <td>None</td>\n",
       "      <td>pupper</td>\n",
       "      <td>None</td>\n",
       "    </tr>\n",
       "    <tr>\n",
       "      <th>23</th>\n",
       "      <td>887473957103951883</td>\n",
       "      <td>2017-07-19 00:47:34 +0000</td>\n",
       "      <td>Twitter for iPhone</td>\n",
       "      <td>This is Canela. She attempted some fancy porch...</td>\n",
       "      <td>https://twitter.com/dog_rates/status/887473957...</td>\n",
       "      <td>13</td>\n",
       "      <td>10</td>\n",
       "      <td>Canela</td>\n",
       "      <td>None</td>\n",
       "      <td>None</td>\n",
       "      <td>None</td>\n",
       "      <td>None</td>\n",
       "    </tr>\n",
       "    <tr>\n",
       "      <th>2180</th>\n",
       "      <td>669000397445533696</td>\n",
       "      <td>2015-11-24 03:51:38 +0000</td>\n",
       "      <td>Twitter for iPhone</td>\n",
       "      <td>Meet Terrance. He's being yelled at because he...</td>\n",
       "      <td>https://twitter.com/dog_rates/status/669000397...</td>\n",
       "      <td>11</td>\n",
       "      <td>10</td>\n",
       "      <td>Terrance</td>\n",
       "      <td>None</td>\n",
       "      <td>None</td>\n",
       "      <td>None</td>\n",
       "      <td>None</td>\n",
       "    </tr>\n",
       "    <tr>\n",
       "      <th>1021</th>\n",
       "      <td>746726898085036033</td>\n",
       "      <td>2016-06-25 15:29:00 +0000</td>\n",
       "      <td>Twitter for iPhone</td>\n",
       "      <td>Meet Abby. She's incredibly distracting. Just ...</td>\n",
       "      <td>https://twitter.com/dog_rates/status/746726898...</td>\n",
       "      <td>12</td>\n",
       "      <td>10</td>\n",
       "      <td>Abby</td>\n",
       "      <td>None</td>\n",
       "      <td>None</td>\n",
       "      <td>None</td>\n",
       "      <td>None</td>\n",
       "    </tr>\n",
       "    <tr>\n",
       "      <th>2322</th>\n",
       "      <td>666430724426358785</td>\n",
       "      <td>2015-11-17 01:40:41 +0000</td>\n",
       "      <td>Twitter for iPhone</td>\n",
       "      <td>Oh boy what a pup! Sunglasses take this one to...</td>\n",
       "      <td>https://twitter.com/dog_rates/status/666430724...</td>\n",
       "      <td>6</td>\n",
       "      <td>10</td>\n",
       "      <td>None</td>\n",
       "      <td>None</td>\n",
       "      <td>None</td>\n",
       "      <td>None</td>\n",
       "      <td>None</td>\n",
       "    </tr>\n",
       "    <tr>\n",
       "      <th>1511</th>\n",
       "      <td>691416866452082688</td>\n",
       "      <td>2016-01-25 00:26:41 +0000</td>\n",
       "      <td>Twitter for iPhone</td>\n",
       "      <td>I present to you... Dog Jesus. 13/10 (he could...</td>\n",
       "      <td>https://twitter.com/dog_rates/status/691416866...</td>\n",
       "      <td>13</td>\n",
       "      <td>10</td>\n",
       "      <td>None</td>\n",
       "      <td>None</td>\n",
       "      <td>None</td>\n",
       "      <td>None</td>\n",
       "      <td>None</td>\n",
       "    </tr>\n",
       "    <tr>\n",
       "      <th>1871</th>\n",
       "      <td>675147105808306176</td>\n",
       "      <td>2015-12-11 02:56:28 +0000</td>\n",
       "      <td>Twitter for iPhone</td>\n",
       "      <td>When you're presenting a group project and the...</td>\n",
       "      <td>https://twitter.com/dog_rates/status/675147105...</td>\n",
       "      <td>10</td>\n",
       "      <td>10</td>\n",
       "      <td>None</td>\n",
       "      <td>None</td>\n",
       "      <td>None</td>\n",
       "      <td>None</td>\n",
       "      <td>None</td>\n",
       "    </tr>\n",
       "    <tr>\n",
       "      <th>2330</th>\n",
       "      <td>666362758909284353</td>\n",
       "      <td>2015-11-16 21:10:36 +0000</td>\n",
       "      <td>Twitter for iPhone</td>\n",
       "      <td>Unique dog here. Very small. Lives in containe...</td>\n",
       "      <td>https://twitter.com/dog_rates/status/666362758...</td>\n",
       "      <td>6</td>\n",
       "      <td>10</td>\n",
       "      <td>None</td>\n",
       "      <td>None</td>\n",
       "      <td>None</td>\n",
       "      <td>None</td>\n",
       "      <td>None</td>\n",
       "    </tr>\n",
       "    <tr>\n",
       "      <th>1950</th>\n",
       "      <td>673688752737402881</td>\n",
       "      <td>2015-12-07 02:21:29 +0000</td>\n",
       "      <td>Twitter for iPhone</td>\n",
       "      <td>Meet Larry. He doesn't know how to shoe. 9/10 ...</td>\n",
       "      <td>https://twitter.com/dog_rates/status/673688752...</td>\n",
       "      <td>9</td>\n",
       "      <td>10</td>\n",
       "      <td>Larry</td>\n",
       "      <td>None</td>\n",
       "      <td>None</td>\n",
       "      <td>None</td>\n",
       "      <td>None</td>\n",
       "    </tr>\n",
       "    <tr>\n",
       "      <th>2034</th>\n",
       "      <td>671743150407421952</td>\n",
       "      <td>2015-12-01 17:30:22 +0000</td>\n",
       "      <td>Twitter for iPhone</td>\n",
       "      <td>This is a Tuscaloosa Alcatraz named Jacob (Yac...</td>\n",
       "      <td>https://twitter.com/dog_rates/status/671743150...</td>\n",
       "      <td>11</td>\n",
       "      <td>10</td>\n",
       "      <td>a</td>\n",
       "      <td>None</td>\n",
       "      <td>None</td>\n",
       "      <td>None</td>\n",
       "      <td>None</td>\n",
       "    </tr>\n",
       "    <tr>\n",
       "      <th>1692</th>\n",
       "      <td>681302363064414209</td>\n",
       "      <td>2015-12-28 02:35:15 +0000</td>\n",
       "      <td>Twitter for iPhone</td>\n",
       "      <td>This is Chuck. He's a neat dog. Very flexible....</td>\n",
       "      <td>https://twitter.com/dog_rates/status/681302363...</td>\n",
       "      <td>3</td>\n",
       "      <td>10</td>\n",
       "      <td>Chuck</td>\n",
       "      <td>None</td>\n",
       "      <td>None</td>\n",
       "      <td>None</td>\n",
       "      <td>None</td>\n",
       "    </tr>\n",
       "    <tr>\n",
       "      <th>1784</th>\n",
       "      <td>677662372920729601</td>\n",
       "      <td>2015-12-18 01:31:14 +0000</td>\n",
       "      <td>Twitter for iPhone</td>\n",
       "      <td>In honor of the new Star Wars movie. Here's Yo...</td>\n",
       "      <td>https://twitter.com/dog_rates/status/677662372...</td>\n",
       "      <td>12</td>\n",
       "      <td>10</td>\n",
       "      <td>None</td>\n",
       "      <td>None</td>\n",
       "      <td>None</td>\n",
       "      <td>None</td>\n",
       "      <td>None</td>\n",
       "    </tr>\n",
       "    <tr>\n",
       "      <th>1807</th>\n",
       "      <td>676916996760600576</td>\n",
       "      <td>2015-12-16 00:09:23 +0000</td>\n",
       "      <td>Vine - Make a Scene</td>\n",
       "      <td>Super speedy pupper. Does not go gentle into t...</td>\n",
       "      <td>https://twitter.com/dog_rates/status/676916996...</td>\n",
       "      <td>10</td>\n",
       "      <td>10</td>\n",
       "      <td>None</td>\n",
       "      <td>None</td>\n",
       "      <td>None</td>\n",
       "      <td>pupper</td>\n",
       "      <td>None</td>\n",
       "    </tr>\n",
       "    <tr>\n",
       "      <th>1311</th>\n",
       "      <td>707021089608753152</td>\n",
       "      <td>2016-03-08 01:52:18 +0000</td>\n",
       "      <td>Twitter for iPhone</td>\n",
       "      <td>This is Tucker. He's a Dasani Episcopalian. Go...</td>\n",
       "      <td>https://twitter.com/dog_rates/status/707021089...</td>\n",
       "      <td>12</td>\n",
       "      <td>10</td>\n",
       "      <td>Tucker</td>\n",
       "      <td>None</td>\n",
       "      <td>None</td>\n",
       "      <td>None</td>\n",
       "      <td>None</td>\n",
       "    </tr>\n",
       "    <tr>\n",
       "      <th>457</th>\n",
       "      <td>818145370475810820</td>\n",
       "      <td>2017-01-08 17:20:31 +0000</td>\n",
       "      <td>Twitter for iPhone</td>\n",
       "      <td>This is Autumn. Her favorite toy is a cheesebu...</td>\n",
       "      <td>https://twitter.com/dog_rates/status/818145370...</td>\n",
       "      <td>11</td>\n",
       "      <td>10</td>\n",
       "      <td>Autumn</td>\n",
       "      <td>None</td>\n",
       "      <td>None</td>\n",
       "      <td>None</td>\n",
       "      <td>None</td>\n",
       "    </tr>\n",
       "    <tr>\n",
       "      <th>1907</th>\n",
       "      <td>674447403907457024</td>\n",
       "      <td>2015-12-09 04:36:06 +0000</td>\n",
       "      <td>Twitter for iPhone</td>\n",
       "      <td>This pupper just wants a belly rub. This puppe...</td>\n",
       "      <td>https://twitter.com/dog_rates/status/674447403...</td>\n",
       "      <td>10</td>\n",
       "      <td>10</td>\n",
       "      <td>None</td>\n",
       "      <td>None</td>\n",
       "      <td>None</td>\n",
       "      <td>pupper</td>\n",
       "      <td>None</td>\n",
       "    </tr>\n",
       "    <tr>\n",
       "      <th>1941</th>\n",
       "      <td>673715861853720576</td>\n",
       "      <td>2015-12-07 04:09:13 +0000</td>\n",
       "      <td>Twitter for iPhone</td>\n",
       "      <td>This is a heavily opinionated dog. Loves walls...</td>\n",
       "      <td>https://twitter.com/dog_rates/status/673715861...</td>\n",
       "      <td>4</td>\n",
       "      <td>10</td>\n",
       "      <td>a</td>\n",
       "      <td>None</td>\n",
       "      <td>None</td>\n",
       "      <td>None</td>\n",
       "      <td>None</td>\n",
       "    </tr>\n",
       "    <tr>\n",
       "      <th>1413</th>\n",
       "      <td>698907974262222848</td>\n",
       "      <td>2016-02-14 16:33:40 +0000</td>\n",
       "      <td>Twitter for iPhone</td>\n",
       "      <td>This dog is never sure if he's doing the right...</td>\n",
       "      <td>https://twitter.com/dog_rates/status/698907974...</td>\n",
       "      <td>10</td>\n",
       "      <td>10</td>\n",
       "      <td>None</td>\n",
       "      <td>None</td>\n",
       "      <td>None</td>\n",
       "      <td>None</td>\n",
       "      <td>None</td>\n",
       "    </tr>\n",
       "    <tr>\n",
       "      <th>646</th>\n",
       "      <td>793150605191548928</td>\n",
       "      <td>2016-10-31 18:00:14 +0000</td>\n",
       "      <td>Twitter for iPhone</td>\n",
       "      <td>This is Nida. She's a free elf. Waited so long...</td>\n",
       "      <td>https://twitter.com/dog_rates/status/793150605...</td>\n",
       "      <td>11</td>\n",
       "      <td>10</td>\n",
       "      <td>Nida</td>\n",
       "      <td>None</td>\n",
       "      <td>None</td>\n",
       "      <td>None</td>\n",
       "      <td>None</td>\n",
       "    </tr>\n",
       "    <tr>\n",
       "      <th>830</th>\n",
       "      <td>768855141948723200</td>\n",
       "      <td>2016-08-25 16:58:45 +0000</td>\n",
       "      <td>Twitter for iPhone</td>\n",
       "      <td>This is Jesse. He really wants a belly rub. Wi...</td>\n",
       "      <td>https://twitter.com/dog_rates/status/768855141...</td>\n",
       "      <td>11</td>\n",
       "      <td>10</td>\n",
       "      <td>Jesse</td>\n",
       "      <td>None</td>\n",
       "      <td>None</td>\n",
       "      <td>None</td>\n",
       "      <td>None</td>\n",
       "    </tr>\n",
       "    <tr>\n",
       "      <th>1792</th>\n",
       "      <td>677334615166730240</td>\n",
       "      <td>2015-12-17 03:48:51 +0000</td>\n",
       "      <td>Twitter for iPhone</td>\n",
       "      <td>This dog gave up mid jump. 9/10</td>\n",
       "      <td>https://twitter.com/dog_rates/status/677334615...</td>\n",
       "      <td>9</td>\n",
       "      <td>10</td>\n",
       "      <td>None</td>\n",
       "      <td>None</td>\n",
       "      <td>None</td>\n",
       "      <td>None</td>\n",
       "      <td>None</td>\n",
       "    </tr>\n",
       "    <tr>\n",
       "      <th>1159</th>\n",
       "      <td>724046343203856385</td>\n",
       "      <td>2016-04-24 01:24:35 +0000</td>\n",
       "      <td>Twitter for iPhone</td>\n",
       "      <td>This is Sarge. Not even he knows what his tong...</td>\n",
       "      <td>https://twitter.com/dog_rates/status/724046343...</td>\n",
       "      <td>10</td>\n",
       "      <td>10</td>\n",
       "      <td>Sarge</td>\n",
       "      <td>None</td>\n",
       "      <td>None</td>\n",
       "      <td>None</td>\n",
       "      <td>None</td>\n",
       "    </tr>\n",
       "  </tbody>\n",
       "</table>\n",
       "</div>"
      ],
      "text/plain": [
       "                tweet_id                  timestamp               source  \\\n",
       "102   872620804844003328  2017-06-08 01:06:27 +0000   Twitter for iPhone   \n",
       "1338  705066031337840642  2016-03-02 16:23:36 +0000   Twitter for iPhone   \n",
       "1091  737445876994609152  2016-05-31 00:49:32 +0000   Twitter for iPhone   \n",
       "2038  671550332464455680  2015-12-01 04:44:10 +0000   Twitter for iPhone   \n",
       "320   834458053273591808  2017-02-22 17:41:18 +0000   Twitter for iPhone   \n",
       "1190  718234618122661888  2016-04-08 00:30:51 +0000   Twitter for iPhone   \n",
       "1827  676430933382295552  2015-12-14 15:57:56 +0000   Twitter for iPhone   \n",
       "2162  669393256313184256  2015-11-25 05:52:43 +0000   Twitter for iPhone   \n",
       "133   866720684873056260  2017-05-22 18:21:28 +0000   Twitter for iPhone   \n",
       "1636  684200372118904832  2016-01-05 02:30:55 +0000   Twitter for iPhone   \n",
       "1612  685321586178670592  2016-01-08 04:46:13 +0000   Twitter for iPhone   \n",
       "1462  694905863685980160  2016-02-03 15:30:43 +0000   Twitter for iPhone   \n",
       "21    887705289381826560  2017-07-19 16:06:48 +0000   Twitter for iPhone   \n",
       "1109  733828123016450049  2016-05-21 01:13:53 +0000   Twitter for iPhone   \n",
       "2293  667152164079423490  2015-11-19 01:27:25 +0000   Twitter for iPhone   \n",
       "217   850380195714523136  2017-04-07 16:10:12 +0000   Twitter for iPhone   \n",
       "1929  674042553264685056  2015-12-08 01:47:22 +0000   Twitter for iPhone   \n",
       "1867  675334060156301312  2015-12-11 15:19:21 +0000   Twitter for iPhone   \n",
       "681   788765914992902144  2016-10-19 15:37:03 +0000   Twitter for iPhone   \n",
       "2090  670786190031921152  2015-11-29 02:07:44 +0000   Twitter for iPhone   \n",
       "1320  706346369204748288  2016-03-06 05:11:12 +0000   Twitter for iPhone   \n",
       "2050  671497587707535361  2015-12-01 01:14:35 +0000   Twitter for iPhone   \n",
       "898   758854675097526272  2016-07-29 02:40:28 +0000   Twitter for iPhone   \n",
       "1431  697516214579523584  2016-02-10 20:23:19 +0000  Vine - Make a Scene   \n",
       "1330  705786532653883392  2016-03-04 16:06:36 +0000   Twitter for iPhone   \n",
       "882   760290219849637889  2016-08-02 01:44:48 +0000   Twitter Web Client   \n",
       "628   794926597468000259  2016-11-05 15:37:24 +0000   Twitter for iPhone   \n",
       "404   824025158776213504  2017-01-24 22:44:42 +0000   Twitter for iPhone   \n",
       "1760  678708137298427904  2015-12-20 22:46:44 +0000  Vine - Make a Scene   \n",
       "23    887473957103951883  2017-07-19 00:47:34 +0000   Twitter for iPhone   \n",
       "2180  669000397445533696  2015-11-24 03:51:38 +0000   Twitter for iPhone   \n",
       "1021  746726898085036033  2016-06-25 15:29:00 +0000   Twitter for iPhone   \n",
       "2322  666430724426358785  2015-11-17 01:40:41 +0000   Twitter for iPhone   \n",
       "1511  691416866452082688  2016-01-25 00:26:41 +0000   Twitter for iPhone   \n",
       "1871  675147105808306176  2015-12-11 02:56:28 +0000   Twitter for iPhone   \n",
       "2330  666362758909284353  2015-11-16 21:10:36 +0000   Twitter for iPhone   \n",
       "1950  673688752737402881  2015-12-07 02:21:29 +0000   Twitter for iPhone   \n",
       "2034  671743150407421952  2015-12-01 17:30:22 +0000   Twitter for iPhone   \n",
       "1692  681302363064414209  2015-12-28 02:35:15 +0000   Twitter for iPhone   \n",
       "1784  677662372920729601  2015-12-18 01:31:14 +0000   Twitter for iPhone   \n",
       "1807  676916996760600576  2015-12-16 00:09:23 +0000  Vine - Make a Scene   \n",
       "1311  707021089608753152  2016-03-08 01:52:18 +0000   Twitter for iPhone   \n",
       "457   818145370475810820  2017-01-08 17:20:31 +0000   Twitter for iPhone   \n",
       "1907  674447403907457024  2015-12-09 04:36:06 +0000   Twitter for iPhone   \n",
       "1941  673715861853720576  2015-12-07 04:09:13 +0000   Twitter for iPhone   \n",
       "1413  698907974262222848  2016-02-14 16:33:40 +0000   Twitter for iPhone   \n",
       "646   793150605191548928  2016-10-31 18:00:14 +0000   Twitter for iPhone   \n",
       "830   768855141948723200  2016-08-25 16:58:45 +0000   Twitter for iPhone   \n",
       "1792  677334615166730240  2015-12-17 03:48:51 +0000   Twitter for iPhone   \n",
       "1159  724046343203856385  2016-04-24 01:24:35 +0000   Twitter for iPhone   \n",
       "\n",
       "                                                   text  \\\n",
       "102   This is Monkey. She's supporting owners everyw...   \n",
       "1338  This is Reese. He's a Chilean Sohcahtoa. Loves...   \n",
       "1091  Just wanted to share this super rare Rainbow F...   \n",
       "2038                                                NaN   \n",
       "320   Meet Chester (bottom) &amp; Harold (top). They...   \n",
       "1190  This is Suki. She was born with a blurry tail ...   \n",
       "1827  Meet Duke. He's an Urban Parmesan. They know h...   \n",
       "2162  Meet Ronduh. She's a Finnish Checkered Blitzkr...   \n",
       "133   He was providing for his family 13/10 how dare...   \n",
       "1636  Gang of fearless hoofed puppers here. Straight...   \n",
       "1612  This is Rocky. He sleeps like a psychopath. 10...   \n",
       "1462  This is Archie. He's a Bisquick Taj Mapaw. Too...   \n",
       "21    This is Jeffrey. He has a monopoly on the pool...   \n",
       "1109  This is Terry. The harder you hug him the fart...   \n",
       "2293  This is Pipsy. He is a fluffball. Enjoys trave...   \n",
       "217   This is Leo. He's a personal triathlon coach. ...   \n",
       "1929  Yea I can't handle the cuteness anymore. Curls...   \n",
       "1867         Good morning here's a grass pupper. 12/10    \n",
       "681   This is Butter. She can have whatever she want...   \n",
       "2090  This is Creg. You offered him a ride to work b...   \n",
       "1320  This is Koda. She's a Beneboom Cumberwiggle. 1...   \n",
       "2050  This is Pip. He is a ship captain. Many years ...   \n",
       "898   This is Lilli Bee &amp; Honey Bear. Unfortunat...   \n",
       "1431         Say hello to Pherb. He does parkour. 9/10    \n",
       "1330      Seriously, add us 🐶 11/10 for sad wet pupper    \n",
       "882   This is Rocco. He's doing his best. 13/10 some...   \n",
       "628   This is Mack. He's rather h*ckin sleepy. Excep...   \n",
       "404       \"I wish we were dogs\" 14/10 for @BadlandsNPS    \n",
       "1760  Here we are witnessing a wild field pupper. Lo...   \n",
       "23    This is Canela. She attempted some fancy porch...   \n",
       "2180  Meet Terrance. He's being yelled at because he...   \n",
       "1021  Meet Abby. She's incredibly distracting. Just ...   \n",
       "2322  Oh boy what a pup! Sunglasses take this one to...   \n",
       "1511  I present to you... Dog Jesus. 13/10 (he could...   \n",
       "1871  When you're presenting a group project and the...   \n",
       "2330  Unique dog here. Very small. Lives in containe...   \n",
       "1950  Meet Larry. He doesn't know how to shoe. 9/10 ...   \n",
       "2034  This is a Tuscaloosa Alcatraz named Jacob (Yac...   \n",
       "1692  This is Chuck. He's a neat dog. Very flexible....   \n",
       "1784  In honor of the new Star Wars movie. Here's Yo...   \n",
       "1807  Super speedy pupper. Does not go gentle into t...   \n",
       "1311  This is Tucker. He's a Dasani Episcopalian. Go...   \n",
       "457   This is Autumn. Her favorite toy is a cheesebu...   \n",
       "1907  This pupper just wants a belly rub. This puppe...   \n",
       "1941  This is a heavily opinionated dog. Loves walls...   \n",
       "1413  This dog is never sure if he's doing the right...   \n",
       "646   This is Nida. She's a free elf. Waited so long...   \n",
       "830   This is Jesse. He really wants a belly rub. Wi...   \n",
       "1792                   This dog gave up mid jump. 9/10    \n",
       "1159  This is Sarge. Not even he knows what his tong...   \n",
       "\n",
       "                                          expanded_urls  rating_numerator  \\\n",
       "102   https://twitter.com/dog_rates/status/872620804...                13   \n",
       "1338  https://twitter.com/dog_rates/status/705066031...                12   \n",
       "1091  https://twitter.com/dog_rates/status/737445876...                13   \n",
       "2038  https://twitter.com/dog_rates/status/671550332...                 1   \n",
       "320   https://twitter.com/dog_rates/status/834458053...                12   \n",
       "1190  https://twitter.com/dog_rates/status/718234618...                11   \n",
       "1827  https://twitter.com/dog_rates/status/676430933...                10   \n",
       "2162  https://twitter.com/dog_rates/status/669393256...                10   \n",
       "133   https://twitter.com/dog_rates/status/866720684...                13   \n",
       "1636  https://twitter.com/dog_rates/status/684200372...                 6   \n",
       "1612  https://twitter.com/dog_rates/status/685321586...                10   \n",
       "1462  https://twitter.com/dog_rates/status/694905863...                10   \n",
       "21    https://twitter.com/dog_rates/status/887705289...                13   \n",
       "1109  https://twitter.com/dog_rates/status/733828123...                10   \n",
       "2293  https://twitter.com/dog_rates/status/667152164...                12   \n",
       "217   https://twitter.com/dog_rates/status/850380195...                13   \n",
       "1929  https://twitter.com/dog_rates/status/674042553...                12   \n",
       "1867  https://twitter.com/dog_rates/status/675334060...                12   \n",
       "681   https://twitter.com/dog_rates/status/788765914...                12   \n",
       "2090  https://twitter.com/dog_rates/status/670786190...                 8   \n",
       "1320  https://twitter.com/dog_rates/status/706346369...                12   \n",
       "2050  https://twitter.com/dog_rates/status/671497587...                11   \n",
       "898   https://twitter.com/dog_rates/status/758854675...                11   \n",
       "1431  https://twitter.com/dog_rates/status/697516214...                 9   \n",
       "1330  https://twitter.com/dog_rates/status/705786532...                11   \n",
       "882   https://twitter.com/dog_rates/status/760290219...                13   \n",
       "628   https://twitter.com/dog_rates/status/794926597...                12   \n",
       "404   https://twitter.com/dog_rates/status/824025158...                14   \n",
       "1760  https://twitter.com/dog_rates/status/678708137...                10   \n",
       "23    https://twitter.com/dog_rates/status/887473957...                13   \n",
       "2180  https://twitter.com/dog_rates/status/669000397...                11   \n",
       "1021  https://twitter.com/dog_rates/status/746726898...                12   \n",
       "2322  https://twitter.com/dog_rates/status/666430724...                 6   \n",
       "1511  https://twitter.com/dog_rates/status/691416866...                13   \n",
       "1871  https://twitter.com/dog_rates/status/675147105...                10   \n",
       "2330  https://twitter.com/dog_rates/status/666362758...                 6   \n",
       "1950  https://twitter.com/dog_rates/status/673688752...                 9   \n",
       "2034  https://twitter.com/dog_rates/status/671743150...                11   \n",
       "1692  https://twitter.com/dog_rates/status/681302363...                 3   \n",
       "1784  https://twitter.com/dog_rates/status/677662372...                12   \n",
       "1807  https://twitter.com/dog_rates/status/676916996...                10   \n",
       "1311  https://twitter.com/dog_rates/status/707021089...                12   \n",
       "457   https://twitter.com/dog_rates/status/818145370...                11   \n",
       "1907  https://twitter.com/dog_rates/status/674447403...                10   \n",
       "1941  https://twitter.com/dog_rates/status/673715861...                 4   \n",
       "1413  https://twitter.com/dog_rates/status/698907974...                10   \n",
       "646   https://twitter.com/dog_rates/status/793150605...                11   \n",
       "830   https://twitter.com/dog_rates/status/768855141...                11   \n",
       "1792  https://twitter.com/dog_rates/status/677334615...                 9   \n",
       "1159  https://twitter.com/dog_rates/status/724046343...                10   \n",
       "\n",
       "      rating_denominator      name doggo  floofer  pupper puppo  \n",
       "102                   10    Monkey  None     None    None  None  \n",
       "1338                  10     Reese  None     None    None  None  \n",
       "1091                  10      None  None  floofer    None  None  \n",
       "2038                  10      None  None     None    None  None  \n",
       "320                   10   Chester  None     None    None  None  \n",
       "1190                  10      Suki  None     None    None  None  \n",
       "1827                  10      Duke  None     None    None  None  \n",
       "2162                  10    Ronduh  None     None    None  None  \n",
       "133                   10      None  None     None    None  None  \n",
       "1636                  10      None  None     None    None  None  \n",
       "1612                  10     Rocky  None     None    None  None  \n",
       "1462                  10    Archie  None     None    None  None  \n",
       "21                    10   Jeffrey  None     None    None  None  \n",
       "1109                  10     Terry  None     None    None  None  \n",
       "2293                  10     Pipsy  None     None    None  None  \n",
       "217                   10       Leo  None     None    None  None  \n",
       "1929                  10      None  None     None    None  None  \n",
       "1867                  10      None  None     None  pupper  None  \n",
       "681                   10    Butter  None     None    None  None  \n",
       "2090                  10      Creg  None     None    None  None  \n",
       "1320                  10      Koda  None     None    None  None  \n",
       "2050                  10       Pip  None     None    None  None  \n",
       "898                   10     Lilli  None     None    None  None  \n",
       "1431                  10     Pherb  None     None    None  None  \n",
       "1330                  10      None  None     None  pupper  None  \n",
       "882                   10     Rocco  None     None    None  None  \n",
       "628                   10      Mack  None     None    None  None  \n",
       "404                   10      None  None     None    None  None  \n",
       "1760                  10      None  None     None  pupper  None  \n",
       "23                    10    Canela  None     None    None  None  \n",
       "2180                  10  Terrance  None     None    None  None  \n",
       "1021                  10      Abby  None     None    None  None  \n",
       "2322                  10      None  None     None    None  None  \n",
       "1511                  10      None  None     None    None  None  \n",
       "1871                  10      None  None     None    None  None  \n",
       "2330                  10      None  None     None    None  None  \n",
       "1950                  10     Larry  None     None    None  None  \n",
       "2034                  10         a  None     None    None  None  \n",
       "1692                  10     Chuck  None     None    None  None  \n",
       "1784                  10      None  None     None    None  None  \n",
       "1807                  10      None  None     None  pupper  None  \n",
       "1311                  10    Tucker  None     None    None  None  \n",
       "457                   10    Autumn  None     None    None  None  \n",
       "1907                  10      None  None     None  pupper  None  \n",
       "1941                  10         a  None     None    None  None  \n",
       "1413                  10      None  None     None    None  None  \n",
       "646                   10      Nida  None     None    None  None  \n",
       "830                   10     Jesse  None     None    None  None  \n",
       "1792                  10      None  None     None    None  None  \n",
       "1159                  10     Sarge  None     None    None  None  "
      ]
     },
     "execution_count": 90,
     "metadata": {},
     "output_type": "execute_result"
    }
   ],
   "source": [
    "twitter_archive.sample(50)"
   ]
  },
  {
   "cell_type": "markdown",
   "metadata": {},
   "source": [
    "## Tidiness issues <a class=\"anchor\" id=\"second3\"></a>"
   ]
  },
  {
   "cell_type": "markdown",
   "metadata": {},
   "source": [
    "### Issue #1: <a class=\"anchor\" id=\"issue11\"></a>"
   ]
  },
  {
   "cell_type": "markdown",
   "metadata": {},
   "source": [
    "#### Define"
   ]
  },
  {
   "cell_type": "markdown",
   "metadata": {},
   "source": [
    "- Classifying dog breeds in `image-prediction.tsv` under one column."
   ]
  },
  {
   "cell_type": "markdown",
   "metadata": {},
   "source": [
    "#### Code"
   ]
  },
  {
   "cell_type": "code",
   "execution_count": 91,
   "metadata": {},
   "outputs": [],
   "source": [
    "twitter_image = pd.melt(twitter_image, id_vars= ['tweet_id', 'jpg_url', 'img_num', 'p1_conf', 'p2_conf', 'p3_conf'],\n",
    "                        value_vars= ['p1', 'p2', 'p3'], value_name= 'breed')\n",
    "\n",
    "twitter_image = pd.melt(twitter_image, id_vars= ['tweet_id', 'jpg_url', 'img_num', 'breed'],\n",
    "                        value_vars= ['p1_conf', 'p2_conf', 'p3_conf'], value_name= 'prediction_conf')\n",
    "\n",
    "twitter_image.drop('variable', axis= 1, inplace= True)\n",
    "\n",
    "twitter_image.drop_duplicates(subset= 'tweet_id', inplace= True, ignore_index= True)"
   ]
  },
  {
   "cell_type": "markdown",
   "metadata": {},
   "source": [
    "#### Test"
   ]
  },
  {
   "cell_type": "code",
   "execution_count": 92,
   "metadata": {},
   "outputs": [
    {
     "data": {
      "text/html": [
       "<div>\n",
       "<style scoped>\n",
       "    .dataframe tbody tr th:only-of-type {\n",
       "        vertical-align: middle;\n",
       "    }\n",
       "\n",
       "    .dataframe tbody tr th {\n",
       "        vertical-align: top;\n",
       "    }\n",
       "\n",
       "    .dataframe thead th {\n",
       "        text-align: right;\n",
       "    }\n",
       "</style>\n",
       "<table border=\"1\" class=\"dataframe\">\n",
       "  <thead>\n",
       "    <tr style=\"text-align: right;\">\n",
       "      <th></th>\n",
       "      <th>tweet_id</th>\n",
       "      <th>jpg_url</th>\n",
       "      <th>img_num</th>\n",
       "      <th>breed</th>\n",
       "      <th>prediction_conf</th>\n",
       "    </tr>\n",
       "  </thead>\n",
       "  <tbody>\n",
       "    <tr>\n",
       "      <th>0</th>\n",
       "      <td>666020888022790149</td>\n",
       "      <td>https://pbs.twimg.com/media/CT4udn0WwAA0aMy.jpg</td>\n",
       "      <td>1</td>\n",
       "      <td>Welsh_springer_spaniel</td>\n",
       "      <td>0.465074</td>\n",
       "    </tr>\n",
       "    <tr>\n",
       "      <th>1</th>\n",
       "      <td>666029285002620928</td>\n",
       "      <td>https://pbs.twimg.com/media/CT42GRgUYAA5iDo.jpg</td>\n",
       "      <td>1</td>\n",
       "      <td>redbone</td>\n",
       "      <td>0.506826</td>\n",
       "    </tr>\n",
       "    <tr>\n",
       "      <th>2</th>\n",
       "      <td>666033412701032449</td>\n",
       "      <td>https://pbs.twimg.com/media/CT4521TWwAEvMyu.jpg</td>\n",
       "      <td>1</td>\n",
       "      <td>German_shepherd</td>\n",
       "      <td>0.596461</td>\n",
       "    </tr>\n",
       "    <tr>\n",
       "      <th>3</th>\n",
       "      <td>666044226329800704</td>\n",
       "      <td>https://pbs.twimg.com/media/CT5Dr8HUEAA-lEu.jpg</td>\n",
       "      <td>1</td>\n",
       "      <td>Rhodesian_ridgeback</td>\n",
       "      <td>0.408143</td>\n",
       "    </tr>\n",
       "    <tr>\n",
       "      <th>4</th>\n",
       "      <td>666049248165822465</td>\n",
       "      <td>https://pbs.twimg.com/media/CT5IQmsXIAAKY4A.jpg</td>\n",
       "      <td>1</td>\n",
       "      <td>miniature_pinscher</td>\n",
       "      <td>0.560311</td>\n",
       "    </tr>\n",
       "    <tr>\n",
       "      <th>...</th>\n",
       "      <td>...</td>\n",
       "      <td>...</td>\n",
       "      <td>...</td>\n",
       "      <td>...</td>\n",
       "      <td>...</td>\n",
       "    </tr>\n",
       "    <tr>\n",
       "      <th>2070</th>\n",
       "      <td>880935762899988482</td>\n",
       "      <td>https://pbs.twimg.com/media/DDm2Z5aXUAEDS2u.jpg</td>\n",
       "      <td>1</td>\n",
       "      <td>NaN</td>\n",
       "      <td>NaN</td>\n",
       "    </tr>\n",
       "    <tr>\n",
       "      <th>2071</th>\n",
       "      <td>881268444196462592</td>\n",
       "      <td>https://pbs.twimg.com/media/DDrk-f9WAAI-WQv.jpg</td>\n",
       "      <td>1</td>\n",
       "      <td>NaN</td>\n",
       "      <td>NaN</td>\n",
       "    </tr>\n",
       "    <tr>\n",
       "      <th>2072</th>\n",
       "      <td>886680336477933568</td>\n",
       "      <td>https://pbs.twimg.com/media/DE4fEDzWAAAyHMM.jpg</td>\n",
       "      <td>1</td>\n",
       "      <td>NaN</td>\n",
       "      <td>NaN</td>\n",
       "    </tr>\n",
       "    <tr>\n",
       "      <th>2073</th>\n",
       "      <td>887517139158093824</td>\n",
       "      <td>https://pbs.twimg.com/ext_tw_video_thumb/88751...</td>\n",
       "      <td>1</td>\n",
       "      <td>NaN</td>\n",
       "      <td>NaN</td>\n",
       "    </tr>\n",
       "    <tr>\n",
       "      <th>2074</th>\n",
       "      <td>892420643555336193</td>\n",
       "      <td>https://pbs.twimg.com/media/DGKD1-bXoAAIAUK.jpg</td>\n",
       "      <td>1</td>\n",
       "      <td>NaN</td>\n",
       "      <td>NaN</td>\n",
       "    </tr>\n",
       "  </tbody>\n",
       "</table>\n",
       "<p>2075 rows × 5 columns</p>\n",
       "</div>"
      ],
      "text/plain": [
       "                tweet_id                                            jpg_url  \\\n",
       "0     666020888022790149    https://pbs.twimg.com/media/CT4udn0WwAA0aMy.jpg   \n",
       "1     666029285002620928    https://pbs.twimg.com/media/CT42GRgUYAA5iDo.jpg   \n",
       "2     666033412701032449    https://pbs.twimg.com/media/CT4521TWwAEvMyu.jpg   \n",
       "3     666044226329800704    https://pbs.twimg.com/media/CT5Dr8HUEAA-lEu.jpg   \n",
       "4     666049248165822465    https://pbs.twimg.com/media/CT5IQmsXIAAKY4A.jpg   \n",
       "...                  ...                                                ...   \n",
       "2070  880935762899988482    https://pbs.twimg.com/media/DDm2Z5aXUAEDS2u.jpg   \n",
       "2071  881268444196462592    https://pbs.twimg.com/media/DDrk-f9WAAI-WQv.jpg   \n",
       "2072  886680336477933568    https://pbs.twimg.com/media/DE4fEDzWAAAyHMM.jpg   \n",
       "2073  887517139158093824  https://pbs.twimg.com/ext_tw_video_thumb/88751...   \n",
       "2074  892420643555336193    https://pbs.twimg.com/media/DGKD1-bXoAAIAUK.jpg   \n",
       "\n",
       "      img_num                   breed  prediction_conf  \n",
       "0           1  Welsh_springer_spaniel         0.465074  \n",
       "1           1                 redbone         0.506826  \n",
       "2           1         German_shepherd         0.596461  \n",
       "3           1     Rhodesian_ridgeback         0.408143  \n",
       "4           1      miniature_pinscher         0.560311  \n",
       "...       ...                     ...              ...  \n",
       "2070        1                     NaN              NaN  \n",
       "2071        1                     NaN              NaN  \n",
       "2072        1                     NaN              NaN  \n",
       "2073        1                     NaN              NaN  \n",
       "2074        1                     NaN              NaN  \n",
       "\n",
       "[2075 rows x 5 columns]"
      ]
     },
     "execution_count": 92,
     "metadata": {},
     "output_type": "execute_result"
    }
   ],
   "source": [
    "twitter_image"
   ]
  },
  {
   "cell_type": "markdown",
   "metadata": {},
   "source": [
    "### Issue #2: <a class=\"anchor\" id=\"issue12\"></a>"
   ]
  },
  {
   "cell_type": "markdown",
   "metadata": {},
   "source": [
    "#### Define"
   ]
  },
  {
   "cell_type": "markdown",
   "metadata": {},
   "source": [
    "- Classifying the dog stages under one column."
   ]
  },
  {
   "cell_type": "markdown",
   "metadata": {},
   "source": [
    "#### Code"
   ]
  },
  {
   "cell_type": "code",
   "execution_count": 93,
   "metadata": {},
   "outputs": [
    {
     "name": "stderr",
     "output_type": "stream",
     "text": [
      "C:\\Users\\dell\\anaconda3\\lib\\site-packages\\pandas\\util\\_decorators.py:311: SettingWithCopyWarning: \n",
      "A value is trying to be set on a copy of a slice from a DataFrame\n",
      "\n",
      "See the caveats in the documentation: https://pandas.pydata.org/pandas-docs/stable/user_guide/indexing.html#returning-a-view-versus-a-copy\n",
      "  return func(*args, **kwargs)\n"
     ]
    }
   ],
   "source": [
    "twitter_archive = twitter_archive.replace('None', np.nan)\n",
    "\n",
    "cols = ['doggo', 'floofer', 'pupper', 'puppo']\n",
    "twitter_archive = pd.melt(twitter_archive, id_vars= ['tweet_id', 'timestamp', 'source', 'text', 'expanded_urls',\n",
    "                                                     'rating_numerator', 'rating_denominator', 'name'], value_vars= cols,\n",
    "                         value_name= 'dog_stages')\n",
    "\n",
    "twitter_archive.drop('variable', axis= 1, inplace= True)\n",
    "\n",
    "a = twitter_archive[twitter_archive['dog_stages'] == 'doggo']\n",
    "b = twitter_archive[twitter_archive['dog_stages'] == 'floofer']\n",
    "c = twitter_archive[twitter_archive['dog_stages'] == 'pupper']\n",
    "d = twitter_archive[twitter_archive['dog_stages'] == 'puppo']\n",
    "e = twitter_archive.dog_stages.isna() == True\n",
    "e = twitter_archive[e]\n",
    "e.drop_duplicates(subset= 'tweet_id', inplace= True, ignore_index= True)\n",
    "\n",
    "twitter_archive = pd.concat([a, b, c, d, e], ignore_index= True)\n",
    "\n",
    "twitter_archive.drop_duplicates(subset= 'tweet_id', inplace= True, ignore_index= True)"
   ]
  },
  {
   "cell_type": "markdown",
   "metadata": {},
   "source": [
    "#### Test"
   ]
  },
  {
   "cell_type": "code",
   "execution_count": 94,
   "metadata": {},
   "outputs": [
    {
     "data": {
      "text/plain": [
       "(0, array(['doggo', 'floofer', 'pupper', 'puppo', nan], dtype=object))"
      ]
     },
     "execution_count": 94,
     "metadata": {},
     "output_type": "execute_result"
    }
   ],
   "source": [
    "twitter_archive.tweet_id.duplicated().sum(), twitter_archive.dog_stages.unique()"
   ]
  },
  {
   "cell_type": "code",
   "execution_count": 95,
   "metadata": {},
   "outputs": [
    {
     "name": "stdout",
     "output_type": "stream",
     "text": [
      "<class 'pandas.core.frame.DataFrame'>\n",
      "RangeIndex: 2258 entries, 0 to 2257\n",
      "Data columns (total 9 columns):\n",
      " #   Column              Non-Null Count  Dtype \n",
      "---  ------              --------------  ----- \n",
      " 0   tweet_id            2258 non-null   int64 \n",
      " 1   timestamp           2258 non-null   object\n",
      " 2   source              2258 non-null   object\n",
      " 3   text                2039 non-null   object\n",
      " 4   expanded_urls       2258 non-null   object\n",
      " 5   rating_numerator    2258 non-null   int64 \n",
      " 6   rating_denominator  2258 non-null   int64 \n",
      " 7   name                1552 non-null   object\n",
      " 8   dog_stages          362 non-null    object\n",
      "dtypes: int64(3), object(6)\n",
      "memory usage: 158.9+ KB\n"
     ]
    }
   ],
   "source": [
    "twitter_archive.info()"
   ]
  },
  {
   "cell_type": "code",
   "execution_count": 97,
   "metadata": {},
   "outputs": [
    {
     "name": "stdout",
     "output_type": "stream",
     "text": [
      "<class 'pandas.core.frame.DataFrame'>\n",
      "RangeIndex: 2075 entries, 0 to 2074\n",
      "Data columns (total 5 columns):\n",
      " #   Column           Non-Null Count  Dtype  \n",
      "---  ------           --------------  -----  \n",
      " 0   tweet_id         2075 non-null   int64  \n",
      " 1   jpg_url          2075 non-null   object \n",
      " 2   img_num          2075 non-null   int64  \n",
      " 3   breed            1532 non-null   object \n",
      " 4   prediction_conf  1532 non-null   float64\n",
      "dtypes: float64(1), int64(2), object(2)\n",
      "memory usage: 81.2+ KB\n"
     ]
    }
   ],
   "source": [
    "twitter_image.info()"
   ]
  },
  {
   "cell_type": "code",
   "execution_count": 98,
   "metadata": {},
   "outputs": [
    {
     "name": "stdout",
     "output_type": "stream",
     "text": [
      "<class 'pandas.core.frame.DataFrame'>\n",
      "RangeIndex: 2327 entries, 0 to 2326\n",
      "Data columns (total 4 columns):\n",
      " #   Column          Non-Null Count  Dtype \n",
      "---  ------          --------------  ----- \n",
      " 0   tweet_id        2327 non-null   int64 \n",
      " 1   data            2327 non-null   object\n",
      " 2   retweet_count   2327 non-null   int64 \n",
      " 3   favorite_count  2327 non-null   int64 \n",
      "dtypes: int64(3), object(1)\n",
      "memory usage: 72.8+ KB\n"
     ]
    }
   ],
   "source": [
    "twitter_counts.info()"
   ]
  },
  {
   "cell_type": "markdown",
   "metadata": {},
   "source": [
    "Creating a master dataset called df."
   ]
  },
  {
   "cell_type": "code",
   "execution_count": 99,
   "metadata": {},
   "outputs": [],
   "source": [
    "df = twitter_archive.merge(twitter_image, on= 'tweet_id', how= 'left').merge(twitter_counts, on= 'tweet_id', how= 'left')"
   ]
  },
  {
   "cell_type": "code",
   "execution_count": 100,
   "metadata": {},
   "outputs": [
    {
     "data": {
      "text/html": [
       "<div>\n",
       "<style scoped>\n",
       "    .dataframe tbody tr th:only-of-type {\n",
       "        vertical-align: middle;\n",
       "    }\n",
       "\n",
       "    .dataframe tbody tr th {\n",
       "        vertical-align: top;\n",
       "    }\n",
       "\n",
       "    .dataframe thead th {\n",
       "        text-align: right;\n",
       "    }\n",
       "</style>\n",
       "<table border=\"1\" class=\"dataframe\">\n",
       "  <thead>\n",
       "    <tr style=\"text-align: right;\">\n",
       "      <th></th>\n",
       "      <th>tweet_id</th>\n",
       "      <th>timestamp</th>\n",
       "      <th>source</th>\n",
       "      <th>text</th>\n",
       "      <th>expanded_urls</th>\n",
       "      <th>rating_numerator</th>\n",
       "      <th>rating_denominator</th>\n",
       "      <th>name</th>\n",
       "      <th>dog_stages</th>\n",
       "      <th>jpg_url</th>\n",
       "      <th>img_num</th>\n",
       "      <th>breed</th>\n",
       "      <th>prediction_conf</th>\n",
       "      <th>data</th>\n",
       "      <th>retweet_count</th>\n",
       "      <th>favorite_count</th>\n",
       "    </tr>\n",
       "  </thead>\n",
       "  <tbody>\n",
       "    <tr>\n",
       "      <th>0</th>\n",
       "      <td>890240255349198849</td>\n",
       "      <td>2017-07-26 15:59:51 +0000</td>\n",
       "      <td>Twitter for iPhone</td>\n",
       "      <td>This is Cassie. She is a college pup. Studying...</td>\n",
       "      <td>https://twitter.com/dog_rates/status/890240255...</td>\n",
       "      <td>14</td>\n",
       "      <td>10</td>\n",
       "      <td>Cassie</td>\n",
       "      <td>doggo</td>\n",
       "      <td>https://pbs.twimg.com/media/DFrEyVuW0AAO3t9.jpg</td>\n",
       "      <td>1.0</td>\n",
       "      <td>Pembroke</td>\n",
       "      <td>0.511319</td>\n",
       "      <td>{'created_at': 'Wed Jul 26 15:59:51 +0000 2017...</td>\n",
       "      <td>6101.0</td>\n",
       "      <td>27971.0</td>\n",
       "    </tr>\n",
       "    <tr>\n",
       "      <th>1</th>\n",
       "      <td>884162670584377345</td>\n",
       "      <td>2017-07-09 21:29:42 +0000</td>\n",
       "      <td>Twitter for iPhone</td>\n",
       "      <td>Meet Yogi. He doesn't have any important dog m...</td>\n",
       "      <td>https://twitter.com/dog_rates/status/884162670...</td>\n",
       "      <td>12</td>\n",
       "      <td>10</td>\n",
       "      <td>Yogi</td>\n",
       "      <td>doggo</td>\n",
       "      <td>https://pbs.twimg.com/media/DEUtQbzW0AUTv_o.jpg</td>\n",
       "      <td>1.0</td>\n",
       "      <td>German_shepherd</td>\n",
       "      <td>0.707046</td>\n",
       "      <td>{'created_at': 'Sun Jul 09 21:29:42 +0000 2017...</td>\n",
       "      <td>2506.0</td>\n",
       "      <td>17948.0</td>\n",
       "    </tr>\n",
       "    <tr>\n",
       "      <th>2</th>\n",
       "      <td>872967104147763200</td>\n",
       "      <td>2017-06-09 00:02:31 +0000</td>\n",
       "      <td>Twitter for iPhone</td>\n",
       "      <td>Here's a very large dog. He has a date later. ...</td>\n",
       "      <td>https://twitter.com/dog_rates/status/872967104...</td>\n",
       "      <td>12</td>\n",
       "      <td>10</td>\n",
       "      <td>NaN</td>\n",
       "      <td>doggo</td>\n",
       "      <td>https://pbs.twimg.com/media/DB1m871XUAAw5vZ.jpg</td>\n",
       "      <td>2.0</td>\n",
       "      <td>Labrador_retriever</td>\n",
       "      <td>0.476913</td>\n",
       "      <td>{'created_at': 'Fri Jun 09 00:02:31 +0000 2017...</td>\n",
       "      <td>4564.0</td>\n",
       "      <td>24092.0</td>\n",
       "    </tr>\n",
       "    <tr>\n",
       "      <th>3</th>\n",
       "      <td>871515927908634625</td>\n",
       "      <td>2017-06-04 23:56:03 +0000</td>\n",
       "      <td>Twitter for iPhone</td>\n",
       "      <td>This is Napolean. He's a Raggedy East Nicaragu...</td>\n",
       "      <td>https://twitter.com/dog_rates/status/871515927...</td>\n",
       "      <td>12</td>\n",
       "      <td>10</td>\n",
       "      <td>Napolean</td>\n",
       "      <td>doggo</td>\n",
       "      <td>https://pbs.twimg.com/media/DBg_HT9WAAEeIMM.jpg</td>\n",
       "      <td>2.0</td>\n",
       "      <td>komondor</td>\n",
       "      <td>0.974781</td>\n",
       "      <td>{'created_at': 'Sun Jun 04 23:56:03 +0000 2017...</td>\n",
       "      <td>2942.0</td>\n",
       "      <td>17897.0</td>\n",
       "    </tr>\n",
       "    <tr>\n",
       "      <th>4</th>\n",
       "      <td>871102520638267392</td>\n",
       "      <td>2017-06-03 20:33:19 +0000</td>\n",
       "      <td>Twitter for iPhone</td>\n",
       "      <td>Never doubt a doggo 14/10</td>\n",
       "      <td>https://twitter.com/dog_rates/status/871102520...</td>\n",
       "      <td>14</td>\n",
       "      <td>10</td>\n",
       "      <td>NaN</td>\n",
       "      <td>doggo</td>\n",
       "      <td>NaN</td>\n",
       "      <td>NaN</td>\n",
       "      <td>NaN</td>\n",
       "      <td>NaN</td>\n",
       "      <td>{'created_at': 'Sat Jun 03 20:33:19 +0000 2017...</td>\n",
       "      <td>4685.0</td>\n",
       "      <td>18560.0</td>\n",
       "    </tr>\n",
       "    <tr>\n",
       "      <th>...</th>\n",
       "      <td>...</td>\n",
       "      <td>...</td>\n",
       "      <td>...</td>\n",
       "      <td>...</td>\n",
       "      <td>...</td>\n",
       "      <td>...</td>\n",
       "      <td>...</td>\n",
       "      <td>...</td>\n",
       "      <td>...</td>\n",
       "      <td>...</td>\n",
       "      <td>...</td>\n",
       "      <td>...</td>\n",
       "      <td>...</td>\n",
       "      <td>...</td>\n",
       "      <td>...</td>\n",
       "      <td>...</td>\n",
       "    </tr>\n",
       "    <tr>\n",
       "      <th>2253</th>\n",
       "      <td>666049248165822465</td>\n",
       "      <td>2015-11-16 00:24:50 +0000</td>\n",
       "      <td>Twitter for iPhone</td>\n",
       "      <td>Here we have a 1949 1st generation vulpix. Enj...</td>\n",
       "      <td>https://twitter.com/dog_rates/status/666049248...</td>\n",
       "      <td>5</td>\n",
       "      <td>10</td>\n",
       "      <td>NaN</td>\n",
       "      <td>NaN</td>\n",
       "      <td>https://pbs.twimg.com/media/CT5IQmsXIAAKY4A.jpg</td>\n",
       "      <td>1.0</td>\n",
       "      <td>miniature_pinscher</td>\n",
       "      <td>0.560311</td>\n",
       "      <td>{'created_at': 'Mon Nov 16 00:24:50 +0000 2015...</td>\n",
       "      <td>37.0</td>\n",
       "      <td>89.0</td>\n",
       "    </tr>\n",
       "    <tr>\n",
       "      <th>2254</th>\n",
       "      <td>666044226329800704</td>\n",
       "      <td>2015-11-16 00:04:52 +0000</td>\n",
       "      <td>Twitter for iPhone</td>\n",
       "      <td>This is a purebred Piers Morgan. Loves to Netf...</td>\n",
       "      <td>https://twitter.com/dog_rates/status/666044226...</td>\n",
       "      <td>6</td>\n",
       "      <td>10</td>\n",
       "      <td>a</td>\n",
       "      <td>NaN</td>\n",
       "      <td>https://pbs.twimg.com/media/CT5Dr8HUEAA-lEu.jpg</td>\n",
       "      <td>1.0</td>\n",
       "      <td>Rhodesian_ridgeback</td>\n",
       "      <td>0.408143</td>\n",
       "      <td>{'created_at': 'Mon Nov 16 00:04:52 +0000 2015...</td>\n",
       "      <td>115.0</td>\n",
       "      <td>247.0</td>\n",
       "    </tr>\n",
       "    <tr>\n",
       "      <th>2255</th>\n",
       "      <td>666033412701032449</td>\n",
       "      <td>2015-11-15 23:21:54 +0000</td>\n",
       "      <td>Twitter for iPhone</td>\n",
       "      <td>Here is a very happy pup. Big fan of well-main...</td>\n",
       "      <td>https://twitter.com/dog_rates/status/666033412...</td>\n",
       "      <td>9</td>\n",
       "      <td>10</td>\n",
       "      <td>a</td>\n",
       "      <td>NaN</td>\n",
       "      <td>https://pbs.twimg.com/media/CT4521TWwAEvMyu.jpg</td>\n",
       "      <td>1.0</td>\n",
       "      <td>German_shepherd</td>\n",
       "      <td>0.596461</td>\n",
       "      <td>{'created_at': 'Sun Nov 15 23:21:54 +0000 2015...</td>\n",
       "      <td>36.0</td>\n",
       "      <td>100.0</td>\n",
       "    </tr>\n",
       "    <tr>\n",
       "      <th>2256</th>\n",
       "      <td>666029285002620928</td>\n",
       "      <td>2015-11-15 23:05:30 +0000</td>\n",
       "      <td>Twitter for iPhone</td>\n",
       "      <td>This is a western brown Mitsubishi terrier. Up...</td>\n",
       "      <td>https://twitter.com/dog_rates/status/666029285...</td>\n",
       "      <td>7</td>\n",
       "      <td>10</td>\n",
       "      <td>a</td>\n",
       "      <td>NaN</td>\n",
       "      <td>https://pbs.twimg.com/media/CT42GRgUYAA5iDo.jpg</td>\n",
       "      <td>1.0</td>\n",
       "      <td>redbone</td>\n",
       "      <td>0.506826</td>\n",
       "      <td>{'created_at': 'Sun Nov 15 23:05:30 +0000 2015...</td>\n",
       "      <td>39.0</td>\n",
       "      <td>112.0</td>\n",
       "    </tr>\n",
       "    <tr>\n",
       "      <th>2257</th>\n",
       "      <td>666020888022790149</td>\n",
       "      <td>2015-11-15 22:32:08 +0000</td>\n",
       "      <td>Twitter for iPhone</td>\n",
       "      <td>Here we have a Japanese Irish Setter. Lost eye...</td>\n",
       "      <td>https://twitter.com/dog_rates/status/666020888...</td>\n",
       "      <td>8</td>\n",
       "      <td>10</td>\n",
       "      <td>NaN</td>\n",
       "      <td>NaN</td>\n",
       "      <td>https://pbs.twimg.com/media/CT4udn0WwAA0aMy.jpg</td>\n",
       "      <td>1.0</td>\n",
       "      <td>Welsh_springer_spaniel</td>\n",
       "      <td>0.465074</td>\n",
       "      <td>{'created_at': 'Sun Nov 15 22:32:08 +0000 2015...</td>\n",
       "      <td>423.0</td>\n",
       "      <td>2294.0</td>\n",
       "    </tr>\n",
       "  </tbody>\n",
       "</table>\n",
       "<p>2258 rows × 16 columns</p>\n",
       "</div>"
      ],
      "text/plain": [
       "                tweet_id                  timestamp              source  \\\n",
       "0     890240255349198849  2017-07-26 15:59:51 +0000  Twitter for iPhone   \n",
       "1     884162670584377345  2017-07-09 21:29:42 +0000  Twitter for iPhone   \n",
       "2     872967104147763200  2017-06-09 00:02:31 +0000  Twitter for iPhone   \n",
       "3     871515927908634625  2017-06-04 23:56:03 +0000  Twitter for iPhone   \n",
       "4     871102520638267392  2017-06-03 20:33:19 +0000  Twitter for iPhone   \n",
       "...                  ...                        ...                 ...   \n",
       "2253  666049248165822465  2015-11-16 00:24:50 +0000  Twitter for iPhone   \n",
       "2254  666044226329800704  2015-11-16 00:04:52 +0000  Twitter for iPhone   \n",
       "2255  666033412701032449  2015-11-15 23:21:54 +0000  Twitter for iPhone   \n",
       "2256  666029285002620928  2015-11-15 23:05:30 +0000  Twitter for iPhone   \n",
       "2257  666020888022790149  2015-11-15 22:32:08 +0000  Twitter for iPhone   \n",
       "\n",
       "                                                   text  \\\n",
       "0     This is Cassie. She is a college pup. Studying...   \n",
       "1     Meet Yogi. He doesn't have any important dog m...   \n",
       "2     Here's a very large dog. He has a date later. ...   \n",
       "3     This is Napolean. He's a Raggedy East Nicaragu...   \n",
       "4                            Never doubt a doggo 14/10    \n",
       "...                                                 ...   \n",
       "2253  Here we have a 1949 1st generation vulpix. Enj...   \n",
       "2254  This is a purebred Piers Morgan. Loves to Netf...   \n",
       "2255  Here is a very happy pup. Big fan of well-main...   \n",
       "2256  This is a western brown Mitsubishi terrier. Up...   \n",
       "2257  Here we have a Japanese Irish Setter. Lost eye...   \n",
       "\n",
       "                                          expanded_urls  rating_numerator  \\\n",
       "0     https://twitter.com/dog_rates/status/890240255...                14   \n",
       "1     https://twitter.com/dog_rates/status/884162670...                12   \n",
       "2     https://twitter.com/dog_rates/status/872967104...                12   \n",
       "3     https://twitter.com/dog_rates/status/871515927...                12   \n",
       "4     https://twitter.com/dog_rates/status/871102520...                14   \n",
       "...                                                 ...               ...   \n",
       "2253  https://twitter.com/dog_rates/status/666049248...                 5   \n",
       "2254  https://twitter.com/dog_rates/status/666044226...                 6   \n",
       "2255  https://twitter.com/dog_rates/status/666033412...                 9   \n",
       "2256  https://twitter.com/dog_rates/status/666029285...                 7   \n",
       "2257  https://twitter.com/dog_rates/status/666020888...                 8   \n",
       "\n",
       "      rating_denominator      name dog_stages  \\\n",
       "0                     10    Cassie      doggo   \n",
       "1                     10      Yogi      doggo   \n",
       "2                     10       NaN      doggo   \n",
       "3                     10  Napolean      doggo   \n",
       "4                     10       NaN      doggo   \n",
       "...                  ...       ...        ...   \n",
       "2253                  10       NaN        NaN   \n",
       "2254                  10         a        NaN   \n",
       "2255                  10         a        NaN   \n",
       "2256                  10         a        NaN   \n",
       "2257                  10       NaN        NaN   \n",
       "\n",
       "                                              jpg_url  img_num  \\\n",
       "0     https://pbs.twimg.com/media/DFrEyVuW0AAO3t9.jpg      1.0   \n",
       "1     https://pbs.twimg.com/media/DEUtQbzW0AUTv_o.jpg      1.0   \n",
       "2     https://pbs.twimg.com/media/DB1m871XUAAw5vZ.jpg      2.0   \n",
       "3     https://pbs.twimg.com/media/DBg_HT9WAAEeIMM.jpg      2.0   \n",
       "4                                                 NaN      NaN   \n",
       "...                                               ...      ...   \n",
       "2253  https://pbs.twimg.com/media/CT5IQmsXIAAKY4A.jpg      1.0   \n",
       "2254  https://pbs.twimg.com/media/CT5Dr8HUEAA-lEu.jpg      1.0   \n",
       "2255  https://pbs.twimg.com/media/CT4521TWwAEvMyu.jpg      1.0   \n",
       "2256  https://pbs.twimg.com/media/CT42GRgUYAA5iDo.jpg      1.0   \n",
       "2257  https://pbs.twimg.com/media/CT4udn0WwAA0aMy.jpg      1.0   \n",
       "\n",
       "                       breed  prediction_conf  \\\n",
       "0                   Pembroke         0.511319   \n",
       "1            German_shepherd         0.707046   \n",
       "2         Labrador_retriever         0.476913   \n",
       "3                   komondor         0.974781   \n",
       "4                        NaN              NaN   \n",
       "...                      ...              ...   \n",
       "2253      miniature_pinscher         0.560311   \n",
       "2254     Rhodesian_ridgeback         0.408143   \n",
       "2255         German_shepherd         0.596461   \n",
       "2256                 redbone         0.506826   \n",
       "2257  Welsh_springer_spaniel         0.465074   \n",
       "\n",
       "                                                   data  retweet_count  \\\n",
       "0     {'created_at': 'Wed Jul 26 15:59:51 +0000 2017...         6101.0   \n",
       "1     {'created_at': 'Sun Jul 09 21:29:42 +0000 2017...         2506.0   \n",
       "2     {'created_at': 'Fri Jun 09 00:02:31 +0000 2017...         4564.0   \n",
       "3     {'created_at': 'Sun Jun 04 23:56:03 +0000 2017...         2942.0   \n",
       "4     {'created_at': 'Sat Jun 03 20:33:19 +0000 2017...         4685.0   \n",
       "...                                                 ...            ...   \n",
       "2253  {'created_at': 'Mon Nov 16 00:24:50 +0000 2015...           37.0   \n",
       "2254  {'created_at': 'Mon Nov 16 00:04:52 +0000 2015...          115.0   \n",
       "2255  {'created_at': 'Sun Nov 15 23:21:54 +0000 2015...           36.0   \n",
       "2256  {'created_at': 'Sun Nov 15 23:05:30 +0000 2015...           39.0   \n",
       "2257  {'created_at': 'Sun Nov 15 22:32:08 +0000 2015...          423.0   \n",
       "\n",
       "      favorite_count  \n",
       "0            27971.0  \n",
       "1            17948.0  \n",
       "2            24092.0  \n",
       "3            17897.0  \n",
       "4            18560.0  \n",
       "...              ...  \n",
       "2253            89.0  \n",
       "2254           247.0  \n",
       "2255           100.0  \n",
       "2256           112.0  \n",
       "2257          2294.0  \n",
       "\n",
       "[2258 rows x 16 columns]"
      ]
     },
     "execution_count": 100,
     "metadata": {},
     "output_type": "execute_result"
    }
   ],
   "source": [
    "df"
   ]
  },
  {
   "cell_type": "code",
   "execution_count": 101,
   "metadata": {},
   "outputs": [
    {
     "name": "stdout",
     "output_type": "stream",
     "text": [
      "<class 'pandas.core.frame.DataFrame'>\n",
      "Int64Index: 2258 entries, 0 to 2257\n",
      "Data columns (total 16 columns):\n",
      " #   Column              Non-Null Count  Dtype  \n",
      "---  ------              --------------  -----  \n",
      " 0   tweet_id            2258 non-null   int64  \n",
      " 1   timestamp           2258 non-null   object \n",
      " 2   source              2258 non-null   object \n",
      " 3   text                2039 non-null   object \n",
      " 4   expanded_urls       2258 non-null   object \n",
      " 5   rating_numerator    2258 non-null   int64  \n",
      " 6   rating_denominator  2258 non-null   int64  \n",
      " 7   name                1552 non-null   object \n",
      " 8   dog_stages          362 non-null    object \n",
      " 9   jpg_url             1993 non-null   object \n",
      " 10  img_num             1993 non-null   float64\n",
      " 11  breed               1478 non-null   object \n",
      " 12  prediction_conf     1478 non-null   float64\n",
      " 13  data                2240 non-null   object \n",
      " 14  retweet_count       2240 non-null   float64\n",
      " 15  favorite_count      2240 non-null   float64\n",
      "dtypes: float64(4), int64(3), object(9)\n",
      "memory usage: 299.9+ KB\n"
     ]
    }
   ],
   "source": [
    "df.info()"
   ]
  },
  {
   "cell_type": "markdown",
   "metadata": {},
   "source": [
    "## Storing Data <a class=\"anchor\" id=\"fourth-title\"></a>\n",
    "Save gathered, assessed, and cleaned master dataset to a CSV file named \"twitter_archive_master.csv\"."
   ]
  },
  {
   "cell_type": "code",
   "execution_count": 238,
   "metadata": {},
   "outputs": [],
   "source": [
    "df.to_csv('twitter_archive_master.csv', index= False)"
   ]
  },
  {
   "cell_type": "markdown",
   "metadata": {},
   "source": [
    "## Analyzing and Visualizing Data <a class=\"anchor\" id=\"fifth-title\"></a>\n",
    "In this section, analyze and visualize your wrangled data. You must produce at least **three (3) insights and one (1) visualization.**"
   ]
  },
  {
   "cell_type": "code",
   "execution_count": 1,
   "metadata": {},
   "outputs": [
    {
     "ename": "NameError",
     "evalue": "name 'df' is not defined",
     "output_type": "error",
     "traceback": [
      "\u001b[1;31m---------------------------------------------------------------------------\u001b[0m",
      "\u001b[1;31mNameError\u001b[0m                                 Traceback (most recent call last)",
      "\u001b[1;32m~\\AppData\\Local\\Temp/ipykernel_9188/3860384967.py\u001b[0m in \u001b[0;36m<module>\u001b[1;34m\u001b[0m\n\u001b[0;32m      1\u001b[0m \u001b[1;31m# Getting the tweet with the highest number of rating.\u001b[0m\u001b[1;33m\u001b[0m\u001b[1;33m\u001b[0m\u001b[0m\n\u001b[0;32m      2\u001b[0m \u001b[1;33m\u001b[0m\u001b[0m\n\u001b[1;32m----> 3\u001b[1;33m \u001b[0mdf\u001b[0m\u001b[1;33m[\u001b[0m\u001b[0mdf\u001b[0m\u001b[1;33m.\u001b[0m\u001b[0mrating_numerator\u001b[0m \u001b[1;33m==\u001b[0m \u001b[0mdf\u001b[0m\u001b[1;33m.\u001b[0m\u001b[0mrating_numerator\u001b[0m\u001b[1;33m.\u001b[0m\u001b[0mmax\u001b[0m\u001b[1;33m(\u001b[0m\u001b[1;33m)\u001b[0m\u001b[1;33m]\u001b[0m\u001b[1;33m[\u001b[0m\u001b[1;33m[\u001b[0m\u001b[1;34m'tweet_id'\u001b[0m\u001b[1;33m,\u001b[0m \u001b[1;34m'rating_numerator'\u001b[0m\u001b[1;33m]\u001b[0m\u001b[1;33m]\u001b[0m\u001b[1;33m\u001b[0m\u001b[1;33m\u001b[0m\u001b[0m\n\u001b[0m",
      "\u001b[1;31mNameError\u001b[0m: name 'df' is not defined"
     ]
    }
   ],
   "source": [
    "# Getting the tweet with the highest number of rating.\n",
    "\n",
    "df[df.rating_numerator == df.rating_numerator.max()][['tweet_id', 'rating_numerator']]"
   ]
  },
  {
   "cell_type": "code",
   "execution_count": 175,
   "metadata": {},
   "outputs": [
    {
     "data": {
      "text/html": [
       "<div>\n",
       "<style scoped>\n",
       "    .dataframe tbody tr th:only-of-type {\n",
       "        vertical-align: middle;\n",
       "    }\n",
       "\n",
       "    .dataframe tbody tr th {\n",
       "        vertical-align: top;\n",
       "    }\n",
       "\n",
       "    .dataframe thead th {\n",
       "        text-align: right;\n",
       "    }\n",
       "</style>\n",
       "<table border=\"1\" class=\"dataframe\">\n",
       "  <thead>\n",
       "    <tr style=\"text-align: right;\">\n",
       "      <th></th>\n",
       "      <th>tweet_id</th>\n",
       "      <th>name</th>\n",
       "      <th>prediction_conf</th>\n",
       "    </tr>\n",
       "  </thead>\n",
       "  <tbody>\n",
       "    <tr>\n",
       "      <th>2109</th>\n",
       "      <td>668636665813057536</td>\n",
       "      <td>an</td>\n",
       "      <td>0.999956</td>\n",
       "    </tr>\n",
       "  </tbody>\n",
       "</table>\n",
       "</div>"
      ],
      "text/plain": [
       "                tweet_id name  prediction_conf\n",
       "2109  668636665813057536   an         0.999956"
      ]
     },
     "execution_count": 175,
     "metadata": {},
     "output_type": "execute_result"
    }
   ],
   "source": [
    "df[df.prediction_conf == df.prediction_conf.max()][['tweet_id', 'name', 'prediction_conf']]"
   ]
  },
  {
   "cell_type": "code",
   "execution_count": 130,
   "metadata": {},
   "outputs": [
    {
     "data": {
      "text/plain": [
       "13.182905225863596"
      ]
     },
     "execution_count": 130,
     "metadata": {},
     "output_type": "execute_result"
    }
   ],
   "source": [
    "df.rating_numerator.mean()"
   ]
  },
  {
   "cell_type": "code",
   "execution_count": 122,
   "metadata": {},
   "outputs": [
    {
     "data": {
      "text/plain": [
       "count     2240.000000\n",
       "mean      2318.068750\n",
       "std       4013.194789\n",
       "min          1.000000\n",
       "25%        489.000000\n",
       "50%       1105.500000\n",
       "75%       2650.250000\n",
       "max      70792.000000\n",
       "Name: retweet_count, dtype: float64"
      ]
     },
     "execution_count": 122,
     "metadata": {},
     "output_type": "execute_result"
    }
   ],
   "source": [
    "df.retweet_count.describe()"
   ]
  },
  {
   "cell_type": "code",
   "execution_count": 123,
   "metadata": {},
   "outputs": [
    {
     "data": {
      "text/html": [
       "<div>\n",
       "<style scoped>\n",
       "    .dataframe tbody tr th:only-of-type {\n",
       "        vertical-align: middle;\n",
       "    }\n",
       "\n",
       "    .dataframe tbody tr th {\n",
       "        vertical-align: top;\n",
       "    }\n",
       "\n",
       "    .dataframe thead th {\n",
       "        text-align: right;\n",
       "    }\n",
       "</style>\n",
       "<table border=\"1\" class=\"dataframe\">\n",
       "  <thead>\n",
       "    <tr style=\"text-align: right;\">\n",
       "      <th></th>\n",
       "      <th>tweet_id</th>\n",
       "      <th>timestamp</th>\n",
       "      <th>source</th>\n",
       "      <th>text</th>\n",
       "      <th>expanded_urls</th>\n",
       "      <th>rating_numerator</th>\n",
       "      <th>rating_denominator</th>\n",
       "      <th>name</th>\n",
       "      <th>dog_stages</th>\n",
       "      <th>jpg_url</th>\n",
       "      <th>img_num</th>\n",
       "      <th>breed</th>\n",
       "      <th>prediction_conf</th>\n",
       "      <th>data</th>\n",
       "      <th>retweet_count</th>\n",
       "      <th>favorite_count</th>\n",
       "    </tr>\n",
       "  </thead>\n",
       "  <tbody>\n",
       "    <tr>\n",
       "      <th>79</th>\n",
       "      <td>744234799360020481</td>\n",
       "      <td>2016-06-18 18:26:18 +0000</td>\n",
       "      <td>Twitter for iPhone</td>\n",
       "      <td>Here's a doggo realizing you can stand in a po...</td>\n",
       "      <td>https://twitter.com/dog_rates/status/744234799...</td>\n",
       "      <td>13</td>\n",
       "      <td>10</td>\n",
       "      <td>NaN</td>\n",
       "      <td>doggo</td>\n",
       "      <td>https://pbs.twimg.com/ext_tw_video_thumb/74423...</td>\n",
       "      <td>1.0</td>\n",
       "      <td>Labrador_retriever</td>\n",
       "      <td>0.825333</td>\n",
       "      <td>{'created_at': 'Sat Jun 18 18:26:18 +0000 2016...</td>\n",
       "      <td>70792.0</td>\n",
       "      <td>144966.0</td>\n",
       "    </tr>\n",
       "  </tbody>\n",
       "</table>\n",
       "</div>"
      ],
      "text/plain": [
       "              tweet_id                  timestamp              source  \\\n",
       "79  744234799360020481  2016-06-18 18:26:18 +0000  Twitter for iPhone   \n",
       "\n",
       "                                                 text  \\\n",
       "79  Here's a doggo realizing you can stand in a po...   \n",
       "\n",
       "                                        expanded_urls  rating_numerator  \\\n",
       "79  https://twitter.com/dog_rates/status/744234799...                13   \n",
       "\n",
       "    rating_denominator name dog_stages  \\\n",
       "79                  10  NaN      doggo   \n",
       "\n",
       "                                              jpg_url  img_num  \\\n",
       "79  https://pbs.twimg.com/ext_tw_video_thumb/74423...      1.0   \n",
       "\n",
       "                 breed  prediction_conf  \\\n",
       "79  Labrador_retriever         0.825333   \n",
       "\n",
       "                                                 data  retweet_count  \\\n",
       "79  {'created_at': 'Sat Jun 18 18:26:18 +0000 2016...        70792.0   \n",
       "\n",
       "    favorite_count  \n",
       "79        144966.0  "
      ]
     },
     "execution_count": 123,
     "metadata": {},
     "output_type": "execute_result"
    }
   ],
   "source": [
    "df.loc[df.retweet_count == df.retweet_count.max()]"
   ]
  },
  {
   "cell_type": "code",
   "execution_count": 241,
   "metadata": {},
   "outputs": [
    {
     "data": {
      "text/plain": [
       "tweet_id                 0\n",
       "timestamp                0\n",
       "source                   0\n",
       "text                   219\n",
       "expanded_urls            0\n",
       "rating_numerator         0\n",
       "rating_denominator       0\n",
       "name                   706\n",
       "dog_stages            1896\n",
       "jpg_url                265\n",
       "img_num                265\n",
       "breed                  780\n",
       "prediction_conf        780\n",
       "data                    18\n",
       "retweet_count           18\n",
       "favorite_count          18\n",
       "dtype: int64"
      ]
     },
     "execution_count": 241,
     "metadata": {},
     "output_type": "execute_result"
    }
   ],
   "source": [
    "df.isna().sum()"
   ]
  },
  {
   "cell_type": "code",
   "execution_count": 242,
   "metadata": {},
   "outputs": [
    {
     "data": {
      "text/plain": [
       "('2015-11-15 22:32:08 +0000', '2017-08-01 16:23:56 +0000')"
      ]
     },
     "execution_count": 242,
     "metadata": {},
     "output_type": "execute_result"
    }
   ],
   "source": [
    "df.timestamp.min(), df.timestamp.max()"
   ]
  },
  {
   "cell_type": "markdown",
   "metadata": {},
   "source": [
    "### Insights: <a class=\"anchor\" id=\"sixth-title\"></a>\n",
    "1. Most of the tweets were sent from an iPhone.\n",
    "\n",
    "2. Most of the breeds were predicted using the first image.\n",
    "\n",
    "3. Most of the dogs were puppers."
   ]
  },
  {
   "cell_type": "markdown",
   "metadata": {
    "collapsed": true
   },
   "source": [
    "### Visualizations <a class=\"anchor\" id=\"seventh-title\"></a>"
   ]
  },
  {
   "cell_type": "code",
   "execution_count": 120,
   "metadata": {},
   "outputs": [
    {
     "data": {
      "image/png": "[encoded data removed]",
      "text/plain": [
       "<Figure size 432x288 with 1 Axes>"
      ]
     },
     "metadata": {
      "needs_background": "light"
     },
     "output_type": "display_data"
    }
   ],
   "source": [
    "df.source.value_counts().plot(kind= 'bar');"
   ]
  },
  {
   "cell_type": "code",
   "execution_count": 121,
   "metadata": {},
   "outputs": [
    {
     "data": {
      "image/png": "[encoded data removed]",
      "text/plain": [
       "<Figure size 432x288 with 1 Axes>"
      ]
     },
     "metadata": {
      "needs_background": "light"
     },
     "output_type": "display_data"
    }
   ],
   "source": [
    "df.dog_stages.value_counts().plot(kind= 'bar');"
   ]
  },
  {
   "cell_type": "code",
   "execution_count": 134,
   "metadata": {},
   "outputs": [
    {
     "data": {
      "text/plain": [
       "<AxesSubplot:xlabel='dog_stages'>"
      ]
     },
     "execution_count": 134,
     "metadata": {},
     "output_type": "execute_result"
    },
    {
     "data": {
      "image/png": "[encoded data removed]",
      "text/plain": [
       "<Figure size 432x288 with 1 Axes>"
      ]
     },
     "metadata": {
      "needs_background": "light"
     },
     "output_type": "display_data"
    }
   ],
   "source": [
    "df.groupby('dog_stages').rating_numerator.mean().plot(kind= 'bar');"
   ]
  },
  {
   "cell_type": "code",
   "execution_count": 165,
   "metadata": {},
   "outputs": [
    {
     "data": {
      "text/plain": [
       "<AxesSubplot:xlabel='dog_stages'>"
      ]
     },
     "execution_count": 165,
     "metadata": {},
     "output_type": "execute_result"
    },
    {
     "data": {
      "image/png": "[encoded data removed]",
      "text/plain": [
       "<Figure size 432x288 with 1 Axes>"
      ]
     },
     "metadata": {
      "needs_background": "light"
     },
     "output_type": "display_data"
    }
   ],
   "source": [
    "df.groupby('dog_stages').rating_numerator.max().plot(kind= 'bar');"
   ]
  },
  {
   "cell_type": "code",
   "execution_count": 237,
   "metadata": {},
   "outputs": [
    {
     "data": {
      "text/plain": [
       "<AxesSubplot:ylabel='Frequency'>"
      ]
     },
     "execution_count": 237,
     "metadata": {},
     "output_type": "execute_result"
    },
    {
     "data": {
      "image/png": "[encoded data removed]",
      "text/plain": [
       "<Figure size 432x288 with 1 Axes>"
      ]
     },
     "metadata": {
      "needs_background": "light"
     },
     "output_type": "display_data"
    }
   ],
   "source": [
    "df.img_num.plot(kind= 'hist');"
   ]
  },
  {
   "cell_type": "code",
   "execution_count": 236,
   "metadata": {},
   "outputs": [
    {
     "data": {
      "text/plain": [
       "<AxesSubplot:ylabel='breed'>"
      ]
     },
     "execution_count": 236,
     "metadata": {},
     "output_type": "execute_result"
    },
    {
     "data": {
      "image/png": "[encoded data removed]",
      "text/plain": [
       "<Figure size 432x288 with 1 Axes>"
      ]
     },
     "metadata": {},
     "output_type": "display_data"
    }
   ],
   "source": [
    "labels = df.breed.value_counts()\n",
    "labels = np.full(len(labels), '', dtype= object)\n",
    "labels[:10] = ['Golden_retriever', 'Labrador_retriever', 'Pembroke', 'Chihuahua', 'Pug', 'Chow', 'Samoyed',\n",
    "                  'Pomeranian', 'Toy_poodle', 'Malamute']\n",
    "df.breed.value_counts().plot(kind= 'pie', labels= labels);"
   ]
  },
  {
   "cell_type": "code",
   "execution_count": 229,
   "metadata": {},
   "outputs": [
    {
     "data": {
      "text/plain": [
       "<AxesSubplot:ylabel='dog_stages'>"
      ]
     },
     "execution_count": 229,
     "metadata": {},
     "output_type": "execute_result"
    },
    {
     "data": {
      "image/png": "[encoded data removed]",
      "text/plain": [
       "<Figure size 432x288 with 1 Axes>"
      ]
     },
     "metadata": {
      "needs_background": "light"
     },
     "output_type": "display_data"
    }
   ],
   "source": [
    "df.groupby('dog_stages').favorite_count.mean().plot(kind= 'barh');"
   ]
  },
  {
   "cell_type": "code",
   "execution_count": 235,
   "metadata": {},
   "outputs": [
    {
     "data": {
      "text/plain": [
       "<AxesSubplot:xlabel='dog_stages'>"
      ]
     },
     "execution_count": 235,
     "metadata": {},
     "output_type": "execute_result"
    },
    {
     "data": {
      "image/png": "[encoded data removed]",
      "text/plain": [
       "<Figure size 432x288 with 1 Axes>"
      ]
     },
     "metadata": {
      "needs_background": "light"
     },
     "output_type": "display_data"
    }
   ],
   "source": [
    "df.groupby(['dog_stages', 'source']).favorite_count.mean().unstack().plot(kind= 'bar');"
   ]
  }
 ],
 "metadata": {
  "extensions": {
   "jupyter_dashboards": {
    "activeView": "report_default",
    "version": 1,
    "views": {
     "grid_default": {
      "cellMargin": 10,
      "defaultCellHeight": 20,
      "maxColumns": 12,
      "name": "grid",
      "type": "grid"
     },
     "report_default": {
      "name": "report",
      "type": "report"
     }
    }
   }
  },
  "kernelspec": {
   "display_name": "Python [conda env:root] *",
   "language": "python",
   "name": "conda-root-py"
  },
  "language_info": {
   "codemirror_mode": {
    "name": "ipython",
    "version": 3
   },
   "file_extension": ".py",
   "mimetype": "text/x-python",
   "name": "python",
   "nbconvert_exporter": "python",
   "pygments_lexer": "ipython3",
   "version": "3.9.7"
  }
 },
 "nbformat": 4,
 "nbformat_minor": 2
}
