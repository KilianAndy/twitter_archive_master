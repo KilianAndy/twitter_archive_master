{
 "cells": [
  {
   "cell_type": "markdown",
   "metadata": {},
   "source": [
    "## Reporting: wragle_report"
   ]
  },
  {
   "cell_type": "markdown",
   "metadata": {},
   "source": [
    "The goal was to create a master dataframe that was clean so as to analyze and visualize some of its contents.\n",
    "\n",
    "I achieved this by first accessing the data from three diffent sources.\n",
    "- Loading the dataset `twitter-archive-enhanced.csv` that was provided.\n",
    "- Getting the dataset `image_predictions.tsv` that was hosted in the Udacity's servers by programmatically downloading it using the Requests library and the URL: https://d17h27t6h515a5.cloudfront.net/topher/2017/August/599fd2ad_image-predictions/image-predictions.tsv\n",
    "- The last dataset was accessed using Twitter's API and the Tweepy Library.\n",
    "\n",
    "I then assessed the data both visually and programmatically checking for any anormalities in the datasets, that is, any quality issues and tidiness issued that could not be used in the exploratory data analysis and the visualizations and this is what I found:\n",
    "1. Regarding the Quality issues;\n",
    "- Some columns in the twitter-archives-enhanced.csv file have missing data.\n",
    "\n",
    "- Rows in the text column on the twitter-archives-enhanced.csv have links which wouldn't look great on a word cloud.\n",
    "\n",
    "- Source column in twitter-archives-enhanced.csv have irrelevant information for our a dataset.\n",
    "\n",
    "- Some dog breeds are indicated as false in the image-predictions.tsv.\n",
    "\n",
    "- The column name in twitter-archives-enhanced.csv has some names as quite. These are not dogs.\n",
    "\n",
    "- Some ratings are retweets in twitter-archives-enhanced.csv dataset.\n",
    "\n",
    "- Some expanded urls have more than one link in twitter-archives-enhanced.csv.\n",
    "\n",
    "- Some expanded_urls in twitter-archives-enhanced.csv have been duplicated and those that appear first are incorrect. Others are NULL.\n",
    "\n",
    "2. Regarding the Tidiness issues;\n",
    "- The dog stages should be under one column.\n",
    "\n",
    "- Classification of dog breeds should be under one column.\n",
    "\n",
    "I then cleaned the datasets using code and later merged the three datasets together using the **twiter_archive** dataset as the primary dataset and saved the dataset as a csv file. I later used this dataset to analyze the newly gathered data and made some visualizations using the same.\n",
    "From the above mentioned process, this is what I found out:\n",
    "- Most of the tweets were sent from an iPhone.\n",
    "\n",
    "- Most of the breeds were predicted using the first image.\n",
    "\n",
    "- Most of the dogs were puppers."
   ]
  }
 ],
 "metadata": {
  "kernelspec": {
   "display_name": "Python 3 (ipykernel)",
   "language": "python",
   "name": "python3"
  },
  "language_info": {
   "codemirror_mode": {
    "name": "ipython",
    "version": 3
   },
   "file_extension": ".py",
   "mimetype": "text/x-python",
   "name": "python",
   "nbconvert_exporter": "python",
   "pygments_lexer": "ipython3",
   "version": "3.9.7"
  }
 },
 "nbformat": 4,
 "nbformat_minor": 2
}
